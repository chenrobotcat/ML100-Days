{
  "cells": [
    {
      "cell_type": "markdown",
      "metadata": {
        "id": "view-in-github",
        "colab_type": "text"
      },
      "source": [
        "<a href=\"https://colab.research.google.com/github/chenrobotcat/ML100-Days/blob/master/%E3%80%8Ctfdv_basic_ipynb%E3%80%8D%E7%9A%84%E5%89%AF%E6%9C%AC.ipynb\" target=\"_parent\"><img src=\"https://colab.research.google.com/assets/colab-badge.svg\" alt=\"Open In Colab\"/></a>"
      ]
    },
    {
      "cell_type": "markdown",
      "metadata": {
        "id": "tghWegsjhpkt"
      },
      "source": [
        "##### Copyright 2020 The TensorFlow Authors."
      ]
    },
    {
      "cell_type": "code",
      "execution_count": 62,
      "metadata": {
        "id": "rSGJWC5biBiG"
      },
      "outputs": [],
      "source": [
        "#@title Licensed under the Apache License, Version 2.0 (the \"License\");\n",
        "# you may not use this file except in compliance with the License.\n",
        "# You may obtain a copy of the License at\n",
        "#\n",
        "# https://www.apache.org/licenses/LICENSE-2.0\n",
        "#\n",
        "# Unless required by applicable law or agreed to in writing, software\n",
        "# distributed under the License is distributed on an \"AS IS\" BASIS,\n",
        "# WITHOUT WARRANTIES OR CONDITIONS OF ANY KIND, either express or implied.\n",
        "# See the License for the specific language governing permissions and\n",
        "# limitations under the License."
      ]
    },
    {
      "cell_type": "markdown",
      "metadata": {
        "id": "YuSYVbwEYNHw"
      },
      "source": [
        "# TensorFlow Data Validation\n",
        "***An Example of a Key Component of TensorFlow Extended***"
      ]
    },
    {
      "cell_type": "markdown",
      "metadata": {
        "id": "rLsMb4vqY244"
      },
      "source": [
        "Note: You can run this example right now in a Jupyter-style notebook, no setup required!  Just click \"Run in Google Colab\"\n",
        "\n",
        "<div class=\"devsite-table-wrapper\"><table class=\"tfo-notebook-buttons\" align=\"left\">\n",
        "<td><a target=\"_blank\" href=\"https://www.tensorflow.org/tfx/tutorials/data_validation/tfdv_basic\">\n",
        "<img src=\"https://www.tensorflow.org/images/tf_logo_32px.png\" />View on TensorFlow.org</a></td>\n",
        "<td><a target=\"_blank\" href=\"https://colab.sandbox.google.com/github/tensorflow/tfx/blob/master/docs/tutorials/data_validation/tfdv_basic.ipynb\">\n",
        "<img src=\"https://www.tensorflow.org/images/colab_logo_32px.png\">Run in Google Colab</a></td>\n",
        "<td><a target=\"_blank\" href=\"https://github.com/tensorflow/tfx/blob/master/docs/tutorials/data_validation/tfdv_basic.ipynb\">\n",
        "<img width=32px src=\"https://www.tensorflow.org/images/GitHub-Mark-32px.png\">View source on GitHub</a></td>\n",
        "<td><a href=\"https://storage.googleapis.com/tensorflow_docs/tfx/docs/tutorials/data_validation/tfdv_basic.ipynb\"><img src=\"https://www.tensorflow.org/images/download_logo_32px.png\" />Download notebook</a></td>\n",
        "</table></div>"
      ]
    },
    {
      "cell_type": "markdown",
      "metadata": {
        "id": "mPt5BHTwy_0F"
      },
      "source": [
        "This example colab notebook illustrates how TensorFlow Data Validation (TFDV) can be used to investigate and visualize your dataset.  That includes looking at descriptive statistics, inferring a schema, checking for and fixing anomalies, and checking for drift and skew in our dataset.  It's important to understand your dataset's characteristics, including how it might change over time in your production pipeline.  It's also important to look for anomalies in your data, and to compare your training, evaluation, and serving datasets to make sure that they're consistent.\n",
        "\n",
        "We'll use data from the [Taxi Trips dataset](https://data.cityofchicago.org/Transportation/Taxi-Trips/wrvz-psew) released by the City of Chicago.\n",
        "\n",
        "Note: This site provides applications using data that has been modified for use from its original source, www.cityofchicago.org, the official website of the City of Chicago. The City of Chicago makes no claims as to the content, accuracy, timeliness, or completeness of any of the data provided at this site. The data provided at this site is subject to change at any time. It is understood that the data provided at this site is being used at one’s own risk.\n",
        "\n",
        "[Read more](https://cloud.google.com/bigquery/public-data/chicago-taxi) about the dataset in [Google BigQuery](https://cloud.google.com/bigquery/). Explore the full dataset in the [BigQuery UI](https://bigquery.cloud.google.com/dataset/bigquery-public-data:chicago_taxi_trips).\n",
        "\n",
        "Key Point: As a modeler and developer, think about how this data is used and the potential benefits and harm a model's predictions can cause. A model like this could reinforce societal biases and disparities. Is a feature relevant to the problem you want to solve or will it introduce bias? For more information, read about [ML fairness](https://developers.google.com/machine-learning/fairness-overview/)."
      ]
    },
    {
      "cell_type": "markdown",
      "metadata": {
        "id": "Fnm6Mj3vTGLm"
      },
      "source": [
        "The columns in the dataset are:\n",
        "<table>\n",
        "<tr><td>pickup_community_area</td><td>fare</td><td>trip_start_month</td></tr>\n",
        "\n",
        "<tr><td>trip_start_hour</td><td>trip_start_day</td><td>trip_start_timestamp</td></tr>\n",
        "<tr><td>pickup_latitude</td><td>pickup_longitude</td><td>dropoff_latitude</td></tr>\n",
        "<tr><td>dropoff_longitude</td><td>trip_miles</td><td>pickup_census_tract</td></tr>\n",
        "<tr><td>dropoff_census_tract</td><td>payment_type</td><td>company</td></tr>\n",
        "<tr><td>trip_seconds</td><td>dropoff_community_area</td><td>tips</td></tr>\n",
        "</table>"
      ]
    },
    {
      "cell_type": "markdown",
      "metadata": {
        "id": "nsYC3O-DnYro"
      },
      "source": [
        "## Install and import packages\n",
        "\n",
        "Install the packages for TensorFlow Data Validation."
      ]
    },
    {
      "cell_type": "markdown",
      "metadata": {
        "id": "ATF_g5c2g2Ha"
      },
      "source": [
        "### Upgrade Pip\n",
        "\n",
        "To avoid upgrading Pip in a system when running locally, check to make sure that we're running in Colab.  Local systems can of course be upgraded separately."
      ]
    },
    {
      "cell_type": "code",
      "execution_count": 63,
      "metadata": {
        "id": "b0ISmRq3nY3-",
        "colab": {
          "base_uri": "https://localhost:8080/"
        },
        "outputId": "dd4a2343-ce0b-4f5b-c1ba-5e191ecdd06d"
      },
      "outputs": [
        {
          "output_type": "stream",
          "name": "stdout",
          "text": [
            "Looking in indexes: https://pypi.org/simple, https://us-python.pkg.dev/colab-wheels/public/simple/\n",
            "Requirement already satisfied: pip in /usr/local/lib/python3.7/dist-packages (22.1.2)\n",
            "\u001b[33mWARNING: Running pip as the 'root' user can result in broken permissions and conflicting behaviour with the system package manager. It is recommended to use a virtual environment instead: https://pip.pypa.io/warnings/venv\u001b[0m\u001b[33m\n",
            "\u001b[0m"
          ]
        }
      ],
      "source": [
        "try:\n",
        "  import colab\n",
        "  !pip install --upgrade pip\n",
        "except:\n",
        "  pass"
      ]
    },
    {
      "cell_type": "markdown",
      "metadata": {
        "id": "4qBFH1ARcSNk"
      },
      "source": [
        "### Install Data Validation packages\n",
        "\n",
        "Install the TensorFlow Data Validation packages and dependencies, which takes a few minutes. You may see warnings and errors regarding incompatible dependency versions, which you will resolve in the next section."
      ]
    },
    {
      "cell_type": "code",
      "execution_count": 64,
      "metadata": {
        "id": "hPJsE5Gkdp8m",
        "colab": {
          "base_uri": "https://localhost:8080/"
        },
        "outputId": "598f620a-9537-4a64-ae3e-0244bef832ff"
      },
      "outputs": [
        {
          "output_type": "stream",
          "name": "stdout",
          "text": [
            "Installing TensorFlow Data Validation\n",
            "Looking in indexes: https://pypi.org/simple, https://us-python.pkg.dev/colab-wheels/public/simple/\n",
            "Requirement already satisfied: tensorflow_data_validation[visualization]<2 in /usr/local/lib/python3.7/dist-packages (1.8.0)\n",
            "Requirement already satisfied: protobuf<4,>=3.13 in /usr/local/lib/python3.7/dist-packages (from tensorflow_data_validation[visualization]<2) (3.19.4)\n",
            "Requirement already satisfied: pandas<2,>=1.0 in /usr/local/lib/python3.7/dist-packages (from tensorflow_data_validation[visualization]<2) (1.3.5)\n",
            "Requirement already satisfied: six<2,>=1.12 in /usr/local/lib/python3.7/dist-packages (from tensorflow_data_validation[visualization]<2) (1.15.0)\n",
            "Requirement already satisfied: joblib<0.15,>=0.12 in /usr/local/lib/python3.7/dist-packages (from tensorflow_data_validation[visualization]<2) (0.14.1)\n",
            "Requirement already satisfied: numpy<2,>=1.16 in /usr/local/lib/python3.7/dist-packages (from tensorflow_data_validation[visualization]<2) (1.21.6)\n",
            "Requirement already satisfied: absl-py<2.0.0,>=0.9 in /usr/local/lib/python3.7/dist-packages (from tensorflow_data_validation[visualization]<2) (1.0.0)\n",
            "Requirement already satisfied: apache-beam[gcp]<3,>=2.38 in /usr/local/lib/python3.7/dist-packages (from tensorflow_data_validation[visualization]<2) (2.39.0)\n",
            "Requirement already satisfied: tensorflow-metadata<1.9,>=1.8.0 in /usr/local/lib/python3.7/dist-packages (from tensorflow_data_validation[visualization]<2) (1.8.0)\n",
            "Requirement already satisfied: pyfarmhash<0.4,>=0.2 in /usr/local/lib/python3.7/dist-packages (from tensorflow_data_validation[visualization]<2) (0.3.2)\n",
            "Requirement already satisfied: tensorflow!=2.0.*,!=2.1.*,!=2.2.*,!=2.3.*,!=2.4.*,!=2.5.*,!=2.6.*,!=2.7.*,<3,>=1.15.5 in /usr/local/lib/python3.7/dist-packages (from tensorflow_data_validation[visualization]<2) (2.8.2+zzzcolab20220527125636)\n",
            "Requirement already satisfied: pyarrow<6,>=1 in /usr/local/lib/python3.7/dist-packages (from tensorflow_data_validation[visualization]<2) (5.0.0)\n",
            "Requirement already satisfied: tfx-bsl<1.9,>=1.8.0 in /usr/local/lib/python3.7/dist-packages (from tensorflow_data_validation[visualization]<2) (1.8.0)\n",
            "Requirement already satisfied: ipython<8,>=7 in /usr/local/lib/python3.7/dist-packages (from tensorflow_data_validation[visualization]<2) (7.34.0)\n",
            "Requirement already satisfied: crcmod<2.0,>=1.7 in /usr/local/lib/python3.7/dist-packages (from apache-beam[gcp]<3,>=2.38->tensorflow_data_validation[visualization]<2) (1.7)\n",
            "Requirement already satisfied: fastavro<2,>=0.23.6 in /usr/local/lib/python3.7/dist-packages (from apache-beam[gcp]<3,>=2.38->tensorflow_data_validation[visualization]<2) (1.4.12)\n",
            "Requirement already satisfied: orjson<4.0 in /usr/local/lib/python3.7/dist-packages (from apache-beam[gcp]<3,>=2.38->tensorflow_data_validation[visualization]<2) (3.7.1)\n",
            "Requirement already satisfied: dill<0.3.2,>=0.3.1.1 in /usr/local/lib/python3.7/dist-packages (from apache-beam[gcp]<3,>=2.38->tensorflow_data_validation[visualization]<2) (0.3.1.1)\n",
            "Requirement already satisfied: grpcio<2,>=1.29.0 in /usr/local/lib/python3.7/dist-packages (from apache-beam[gcp]<3,>=2.38->tensorflow_data_validation[visualization]<2) (1.46.3)\n",
            "Requirement already satisfied: typing-extensions>=3.7.0 in /usr/local/lib/python3.7/dist-packages (from apache-beam[gcp]<3,>=2.38->tensorflow_data_validation[visualization]<2) (4.2.0)\n",
            "Requirement already satisfied: requests<3.0.0,>=2.24.0 in /usr/local/lib/python3.7/dist-packages (from apache-beam[gcp]<3,>=2.38->tensorflow_data_validation[visualization]<2) (2.27.1)\n",
            "Requirement already satisfied: cloudpickle<3,>=2.0.0 in /usr/local/lib/python3.7/dist-packages (from apache-beam[gcp]<3,>=2.38->tensorflow_data_validation[visualization]<2) (2.1.0)\n",
            "Requirement already satisfied: pytz>=2018.3 in /usr/local/lib/python3.7/dist-packages (from apache-beam[gcp]<3,>=2.38->tensorflow_data_validation[visualization]<2) (2022.1)\n",
            "Requirement already satisfied: pydot<2,>=1.2.0 in /usr/local/lib/python3.7/dist-packages (from apache-beam[gcp]<3,>=2.38->tensorflow_data_validation[visualization]<2) (1.3.0)\n",
            "Requirement already satisfied: python-dateutil<3,>=2.8.0 in /usr/local/lib/python3.7/dist-packages (from apache-beam[gcp]<3,>=2.38->tensorflow_data_validation[visualization]<2) (2.8.2)\n",
            "Requirement already satisfied: hdfs<3.0.0,>=2.1.0 in /usr/local/lib/python3.7/dist-packages (from apache-beam[gcp]<3,>=2.38->tensorflow_data_validation[visualization]<2) (2.7.0)\n",
            "Requirement already satisfied: proto-plus<2,>=1.7.1 in /usr/local/lib/python3.7/dist-packages (from apache-beam[gcp]<3,>=2.38->tensorflow_data_validation[visualization]<2) (1.20.5)\n",
            "Requirement already satisfied: httplib2<0.20.0,>=0.8 in /usr/local/lib/python3.7/dist-packages (from apache-beam[gcp]<3,>=2.38->tensorflow_data_validation[visualization]<2) (0.17.4)\n",
            "Requirement already satisfied: pymongo<4.0.0,>=3.8.0 in /usr/local/lib/python3.7/dist-packages (from apache-beam[gcp]<3,>=2.38->tensorflow_data_validation[visualization]<2) (3.12.3)\n",
            "Requirement already satisfied: google-apitools<0.5.32,>=0.5.31 in /usr/local/lib/python3.7/dist-packages (from apache-beam[gcp]<3,>=2.38->tensorflow_data_validation[visualization]<2) (0.5.31)\n",
            "Requirement already satisfied: google-cloud-bigquery-storage>=2.6.3 in /usr/local/lib/python3.7/dist-packages (from apache-beam[gcp]<3,>=2.38->tensorflow_data_validation[visualization]<2) (2.13.1)\n",
            "Requirement already satisfied: google-cloud-dlp<4,>=3.0.0 in /usr/local/lib/python3.7/dist-packages (from apache-beam[gcp]<3,>=2.38->tensorflow_data_validation[visualization]<2) (3.7.0)\n",
            "Requirement already satisfied: cachetools<5,>=3.1.0 in /usr/local/lib/python3.7/dist-packages (from apache-beam[gcp]<3,>=2.38->tensorflow_data_validation[visualization]<2) (4.2.4)\n",
            "Requirement already satisfied: google-cloud-spanner<2,>=1.13.0 in /usr/local/lib/python3.7/dist-packages (from apache-beam[gcp]<3,>=2.38->tensorflow_data_validation[visualization]<2) (1.19.2)\n",
            "Requirement already satisfied: google-cloud-language<2,>=1.3.0 in /usr/local/lib/python3.7/dist-packages (from apache-beam[gcp]<3,>=2.38->tensorflow_data_validation[visualization]<2) (1.3.1)\n",
            "Requirement already satisfied: google-auth-httplib2<0.2.0,>=0.1.0 in /usr/local/lib/python3.7/dist-packages (from apache-beam[gcp]<3,>=2.38->tensorflow_data_validation[visualization]<2) (0.1.0)\n",
            "Requirement already satisfied: google-cloud-recommendations-ai<=0.2.0,>=0.1.0 in /usr/local/lib/python3.7/dist-packages (from apache-beam[gcp]<3,>=2.38->tensorflow_data_validation[visualization]<2) (0.2.0)\n",
            "Requirement already satisfied: google-cloud-vision<2,>=0.38.0 in /usr/local/lib/python3.7/dist-packages (from apache-beam[gcp]<3,>=2.38->tensorflow_data_validation[visualization]<2) (1.0.1)\n",
            "Requirement already satisfied: google-cloud-videointelligence<2,>=1.8.0 in /usr/local/lib/python3.7/dist-packages (from apache-beam[gcp]<3,>=2.38->tensorflow_data_validation[visualization]<2) (1.16.2)\n",
            "Requirement already satisfied: google-cloud-bigquery<3,>=1.6.0 in /usr/local/lib/python3.7/dist-packages (from apache-beam[gcp]<3,>=2.38->tensorflow_data_validation[visualization]<2) (1.21.0)\n",
            "Requirement already satisfied: google-cloud-core<2,>=0.28.1 in /usr/local/lib/python3.7/dist-packages (from apache-beam[gcp]<3,>=2.38->tensorflow_data_validation[visualization]<2) (1.7.2)\n",
            "Requirement already satisfied: google-cloud-pubsub<3,>=2.1.0 in /usr/local/lib/python3.7/dist-packages (from apache-beam[gcp]<3,>=2.38->tensorflow_data_validation[visualization]<2) (2.12.1)\n",
            "Requirement already satisfied: google-cloud-datastore<2,>=1.8.0 in /usr/local/lib/python3.7/dist-packages (from apache-beam[gcp]<3,>=2.38->tensorflow_data_validation[visualization]<2) (1.8.0)\n",
            "Requirement already satisfied: google-auth<3,>=1.18.0 in /usr/local/lib/python3.7/dist-packages (from apache-beam[gcp]<3,>=2.38->tensorflow_data_validation[visualization]<2) (1.35.0)\n",
            "Requirement already satisfied: google-cloud-pubsublite<2,>=1.2.0 in /usr/local/lib/python3.7/dist-packages (from apache-beam[gcp]<3,>=2.38->tensorflow_data_validation[visualization]<2) (1.4.2)\n",
            "Requirement already satisfied: grpcio-gcp<1,>=0.2.2 in /usr/local/lib/python3.7/dist-packages (from apache-beam[gcp]<3,>=2.38->tensorflow_data_validation[visualization]<2) (0.2.2)\n",
            "Requirement already satisfied: google-cloud-bigtable<2,>=0.31.1 in /usr/local/lib/python3.7/dist-packages (from apache-beam[gcp]<3,>=2.38->tensorflow_data_validation[visualization]<2) (1.7.1)\n",
            "Requirement already satisfied: decorator in /usr/local/lib/python3.7/dist-packages (from ipython<8,>=7->tensorflow_data_validation[visualization]<2) (4.4.2)\n",
            "Requirement already satisfied: pygments in /usr/local/lib/python3.7/dist-packages (from ipython<8,>=7->tensorflow_data_validation[visualization]<2) (2.6.1)\n",
            "Requirement already satisfied: jedi>=0.16 in /usr/local/lib/python3.7/dist-packages (from ipython<8,>=7->tensorflow_data_validation[visualization]<2) (0.18.1)\n",
            "Requirement already satisfied: backcall in /usr/local/lib/python3.7/dist-packages (from ipython<8,>=7->tensorflow_data_validation[visualization]<2) (0.2.0)\n",
            "Requirement already satisfied: matplotlib-inline in /usr/local/lib/python3.7/dist-packages (from ipython<8,>=7->tensorflow_data_validation[visualization]<2) (0.1.3)\n",
            "Requirement already satisfied: prompt-toolkit!=3.0.0,!=3.0.1,<3.1.0,>=2.0.0 in /usr/local/lib/python3.7/dist-packages (from ipython<8,>=7->tensorflow_data_validation[visualization]<2) (3.0.29)\n",
            "Requirement already satisfied: setuptools>=18.5 in /usr/local/lib/python3.7/dist-packages (from ipython<8,>=7->tensorflow_data_validation[visualization]<2) (57.4.0)\n",
            "Requirement already satisfied: traitlets>=4.2 in /usr/local/lib/python3.7/dist-packages (from ipython<8,>=7->tensorflow_data_validation[visualization]<2) (5.1.1)\n",
            "Requirement already satisfied: pickleshare in /usr/local/lib/python3.7/dist-packages (from ipython<8,>=7->tensorflow_data_validation[visualization]<2) (0.7.5)\n",
            "Requirement already satisfied: pexpect>4.3 in /usr/local/lib/python3.7/dist-packages (from ipython<8,>=7->tensorflow_data_validation[visualization]<2) (4.8.0)\n",
            "Requirement already satisfied: keras<2.9,>=2.8.0rc0 in /usr/local/lib/python3.7/dist-packages (from tensorflow!=2.0.*,!=2.1.*,!=2.2.*,!=2.3.*,!=2.4.*,!=2.5.*,!=2.6.*,!=2.7.*,<3,>=1.15.5->tensorflow_data_validation[visualization]<2) (2.8.0)\n",
            "Requirement already satisfied: h5py>=2.9.0 in /usr/local/lib/python3.7/dist-packages (from tensorflow!=2.0.*,!=2.1.*,!=2.2.*,!=2.3.*,!=2.4.*,!=2.5.*,!=2.6.*,!=2.7.*,<3,>=1.15.5->tensorflow_data_validation[visualization]<2) (3.1.0)\n",
            "Requirement already satisfied: libclang>=9.0.1 in /usr/local/lib/python3.7/dist-packages (from tensorflow!=2.0.*,!=2.1.*,!=2.2.*,!=2.3.*,!=2.4.*,!=2.5.*,!=2.6.*,!=2.7.*,<3,>=1.15.5->tensorflow_data_validation[visualization]<2) (14.0.1)\n",
            "Requirement already satisfied: opt-einsum>=2.3.2 in /usr/local/lib/python3.7/dist-packages (from tensorflow!=2.0.*,!=2.1.*,!=2.2.*,!=2.3.*,!=2.4.*,!=2.5.*,!=2.6.*,!=2.7.*,<3,>=1.15.5->tensorflow_data_validation[visualization]<2) (3.3.0)\n",
            "Requirement already satisfied: termcolor>=1.1.0 in /usr/local/lib/python3.7/dist-packages (from tensorflow!=2.0.*,!=2.1.*,!=2.2.*,!=2.3.*,!=2.4.*,!=2.5.*,!=2.6.*,!=2.7.*,<3,>=1.15.5->tensorflow_data_validation[visualization]<2) (1.1.0)\n",
            "Requirement already satisfied: tensorflow-estimator<2.9,>=2.8 in /usr/local/lib/python3.7/dist-packages (from tensorflow!=2.0.*,!=2.1.*,!=2.2.*,!=2.3.*,!=2.4.*,!=2.5.*,!=2.6.*,!=2.7.*,<3,>=1.15.5->tensorflow_data_validation[visualization]<2) (2.8.0)\n",
            "Requirement already satisfied: google-pasta>=0.1.1 in /usr/local/lib/python3.7/dist-packages (from tensorflow!=2.0.*,!=2.1.*,!=2.2.*,!=2.3.*,!=2.4.*,!=2.5.*,!=2.6.*,!=2.7.*,<3,>=1.15.5->tensorflow_data_validation[visualization]<2) (0.2.0)\n",
            "Requirement already satisfied: gast>=0.2.1 in /usr/local/lib/python3.7/dist-packages (from tensorflow!=2.0.*,!=2.1.*,!=2.2.*,!=2.3.*,!=2.4.*,!=2.5.*,!=2.6.*,!=2.7.*,<3,>=1.15.5->tensorflow_data_validation[visualization]<2) (0.5.3)\n",
            "Requirement already satisfied: flatbuffers>=1.12 in /usr/local/lib/python3.7/dist-packages (from tensorflow!=2.0.*,!=2.1.*,!=2.2.*,!=2.3.*,!=2.4.*,!=2.5.*,!=2.6.*,!=2.7.*,<3,>=1.15.5->tensorflow_data_validation[visualization]<2) (2.0)\n",
            "Requirement already satisfied: keras-preprocessing>=1.1.1 in /usr/local/lib/python3.7/dist-packages (from tensorflow!=2.0.*,!=2.1.*,!=2.2.*,!=2.3.*,!=2.4.*,!=2.5.*,!=2.6.*,!=2.7.*,<3,>=1.15.5->tensorflow_data_validation[visualization]<2) (1.1.2)\n",
            "Requirement already satisfied: astunparse>=1.6.0 in /usr/local/lib/python3.7/dist-packages (from tensorflow!=2.0.*,!=2.1.*,!=2.2.*,!=2.3.*,!=2.4.*,!=2.5.*,!=2.6.*,!=2.7.*,<3,>=1.15.5->tensorflow_data_validation[visualization]<2) (1.6.3)\n",
            "Requirement already satisfied: wrapt>=1.11.0 in /usr/local/lib/python3.7/dist-packages (from tensorflow!=2.0.*,!=2.1.*,!=2.2.*,!=2.3.*,!=2.4.*,!=2.5.*,!=2.6.*,!=2.7.*,<3,>=1.15.5->tensorflow_data_validation[visualization]<2) (1.14.1)\n",
            "Requirement already satisfied: tensorflow-io-gcs-filesystem>=0.23.1 in /usr/local/lib/python3.7/dist-packages (from tensorflow!=2.0.*,!=2.1.*,!=2.2.*,!=2.3.*,!=2.4.*,!=2.5.*,!=2.6.*,!=2.7.*,<3,>=1.15.5->tensorflow_data_validation[visualization]<2) (0.26.0)\n",
            "Requirement already satisfied: tensorboard<2.9,>=2.8 in /usr/local/lib/python3.7/dist-packages (from tensorflow!=2.0.*,!=2.1.*,!=2.2.*,!=2.3.*,!=2.4.*,!=2.5.*,!=2.6.*,!=2.7.*,<3,>=1.15.5->tensorflow_data_validation[visualization]<2) (2.8.0)\n",
            "Requirement already satisfied: googleapis-common-protos<2,>=1.52.0 in /usr/local/lib/python3.7/dist-packages (from tensorflow-metadata<1.9,>=1.8.0->tensorflow_data_validation[visualization]<2) (1.56.2)\n",
            "Requirement already satisfied: google-api-python-client<2,>=1.7.11 in /usr/local/lib/python3.7/dist-packages (from tfx-bsl<1.9,>=1.8.0->tensorflow_data_validation[visualization]<2) (1.12.11)\n",
            "Requirement already satisfied: tensorflow-serving-api!=2.0.*,!=2.1.*,!=2.2.*,!=2.3.*,!=2.4.*,!=2.5.*,!=2.6.*,!=2.7.*,<3,>=1.15 in /usr/local/lib/python3.7/dist-packages (from tfx-bsl<1.9,>=1.8.0->tensorflow_data_validation[visualization]<2) (2.8.0)\n",
            "Requirement already satisfied: wheel<1.0,>=0.23.0 in /usr/local/lib/python3.7/dist-packages (from astunparse>=1.6.0->tensorflow!=2.0.*,!=2.1.*,!=2.2.*,!=2.3.*,!=2.4.*,!=2.5.*,!=2.6.*,!=2.7.*,<3,>=1.15.5->tensorflow_data_validation[visualization]<2) (0.37.1)\n",
            "Requirement already satisfied: uritemplate<4dev,>=3.0.0 in /usr/local/lib/python3.7/dist-packages (from google-api-python-client<2,>=1.7.11->tfx-bsl<1.9,>=1.8.0->tensorflow_data_validation[visualization]<2) (3.0.1)\n",
            "Requirement already satisfied: google-api-core<3dev,>=1.21.0 in /usr/local/lib/python3.7/dist-packages (from google-api-python-client<2,>=1.7.11->tfx-bsl<1.9,>=1.8.0->tensorflow_data_validation[visualization]<2) (1.31.6)\n",
            "Requirement already satisfied: oauth2client>=1.4.12 in /usr/local/lib/python3.7/dist-packages (from google-apitools<0.5.32,>=0.5.31->apache-beam[gcp]<3,>=2.38->tensorflow_data_validation[visualization]<2) (4.1.3)\n",
            "Requirement already satisfied: fasteners>=0.14 in /usr/local/lib/python3.7/dist-packages (from google-apitools<0.5.32,>=0.5.31->apache-beam[gcp]<3,>=2.38->tensorflow_data_validation[visualization]<2) (0.17.3)\n",
            "Requirement already satisfied: rsa<5,>=3.1.4 in /usr/local/lib/python3.7/dist-packages (from google-auth<3,>=1.18.0->apache-beam[gcp]<3,>=2.38->tensorflow_data_validation[visualization]<2) (4.8)\n",
            "Requirement already satisfied: pyasn1-modules>=0.2.1 in /usr/local/lib/python3.7/dist-packages (from google-auth<3,>=1.18.0->apache-beam[gcp]<3,>=2.38->tensorflow_data_validation[visualization]<2) (0.2.8)\n",
            "Requirement already satisfied: google-resumable-media!=0.4.0,<0.5.0dev,>=0.3.1 in /usr/local/lib/python3.7/dist-packages (from google-cloud-bigquery<3,>=1.6.0->apache-beam[gcp]<3,>=2.38->tensorflow_data_validation[visualization]<2) (0.4.1)\n",
            "Requirement already satisfied: grpc-google-iam-v1<0.13dev,>=0.12.3 in /usr/local/lib/python3.7/dist-packages (from google-cloud-bigtable<2,>=0.31.1->apache-beam[gcp]<3,>=2.38->tensorflow_data_validation[visualization]<2) (0.12.4)\n",
            "Requirement already satisfied: grpcio-status>=1.16.0 in /usr/local/lib/python3.7/dist-packages (from google-cloud-pubsub<3,>=2.1.0->apache-beam[gcp]<3,>=2.38->tensorflow_data_validation[visualization]<2) (1.46.3)\n",
            "Requirement already satisfied: overrides<7.0.0,>=6.0.1 in /usr/local/lib/python3.7/dist-packages (from google-cloud-pubsublite<2,>=1.2.0->apache-beam[gcp]<3,>=2.38->tensorflow_data_validation[visualization]<2) (6.1.0)\n",
            "Requirement already satisfied: cached-property in /usr/local/lib/python3.7/dist-packages (from h5py>=2.9.0->tensorflow!=2.0.*,!=2.1.*,!=2.2.*,!=2.3.*,!=2.4.*,!=2.5.*,!=2.6.*,!=2.7.*,<3,>=1.15.5->tensorflow_data_validation[visualization]<2) (1.5.2)\n",
            "Requirement already satisfied: docopt in /usr/local/lib/python3.7/dist-packages (from hdfs<3.0.0,>=2.1.0->apache-beam[gcp]<3,>=2.38->tensorflow_data_validation[visualization]<2) (0.6.2)\n",
            "Requirement already satisfied: parso<0.9.0,>=0.8.0 in /usr/local/lib/python3.7/dist-packages (from jedi>=0.16->ipython<8,>=7->tensorflow_data_validation[visualization]<2) (0.8.3)\n",
            "Requirement already satisfied: ptyprocess>=0.5 in /usr/local/lib/python3.7/dist-packages (from pexpect>4.3->ipython<8,>=7->tensorflow_data_validation[visualization]<2) (0.7.0)\n",
            "Requirement already satisfied: wcwidth in /usr/local/lib/python3.7/dist-packages (from prompt-toolkit!=3.0.0,!=3.0.1,<3.1.0,>=2.0.0->ipython<8,>=7->tensorflow_data_validation[visualization]<2) (0.2.5)\n",
            "Requirement already satisfied: pyparsing>=2.1.4 in /usr/local/lib/python3.7/dist-packages (from pydot<2,>=1.2.0->apache-beam[gcp]<3,>=2.38->tensorflow_data_validation[visualization]<2) (3.0.9)\n",
            "Requirement already satisfied: charset-normalizer~=2.0.0 in /usr/local/lib/python3.7/dist-packages (from requests<3.0.0,>=2.24.0->apache-beam[gcp]<3,>=2.38->tensorflow_data_validation[visualization]<2) (2.0.12)\n",
            "Requirement already satisfied: certifi>=2017.4.17 in /usr/local/lib/python3.7/dist-packages (from requests<3.0.0,>=2.24.0->apache-beam[gcp]<3,>=2.38->tensorflow_data_validation[visualization]<2) (2022.5.18.1)\n",
            "Requirement already satisfied: urllib3<1.27,>=1.21.1 in /usr/local/lib/python3.7/dist-packages (from requests<3.0.0,>=2.24.0->apache-beam[gcp]<3,>=2.38->tensorflow_data_validation[visualization]<2) (1.24.3)\n",
            "Requirement already satisfied: idna<4,>=2.5 in /usr/local/lib/python3.7/dist-packages (from requests<3.0.0,>=2.24.0->apache-beam[gcp]<3,>=2.38->tensorflow_data_validation[visualization]<2) (2.10)\n",
            "Requirement already satisfied: markdown>=2.6.8 in /usr/local/lib/python3.7/dist-packages (from tensorboard<2.9,>=2.8->tensorflow!=2.0.*,!=2.1.*,!=2.2.*,!=2.3.*,!=2.4.*,!=2.5.*,!=2.6.*,!=2.7.*,<3,>=1.15.5->tensorflow_data_validation[visualization]<2) (3.3.7)\n",
            "Requirement already satisfied: tensorboard-data-server<0.7.0,>=0.6.0 in /usr/local/lib/python3.7/dist-packages (from tensorboard<2.9,>=2.8->tensorflow!=2.0.*,!=2.1.*,!=2.2.*,!=2.3.*,!=2.4.*,!=2.5.*,!=2.6.*,!=2.7.*,<3,>=1.15.5->tensorflow_data_validation[visualization]<2) (0.6.1)\n",
            "Requirement already satisfied: tensorboard-plugin-wit>=1.6.0 in /usr/local/lib/python3.7/dist-packages (from tensorboard<2.9,>=2.8->tensorflow!=2.0.*,!=2.1.*,!=2.2.*,!=2.3.*,!=2.4.*,!=2.5.*,!=2.6.*,!=2.7.*,<3,>=1.15.5->tensorflow_data_validation[visualization]<2) (1.8.1)\n",
            "Requirement already satisfied: werkzeug>=0.11.15 in /usr/local/lib/python3.7/dist-packages (from tensorboard<2.9,>=2.8->tensorflow!=2.0.*,!=2.1.*,!=2.2.*,!=2.3.*,!=2.4.*,!=2.5.*,!=2.6.*,!=2.7.*,<3,>=1.15.5->tensorflow_data_validation[visualization]<2) (1.0.1)\n",
            "Requirement already satisfied: google-auth-oauthlib<0.5,>=0.4.1 in /usr/local/lib/python3.7/dist-packages (from tensorboard<2.9,>=2.8->tensorflow!=2.0.*,!=2.1.*,!=2.2.*,!=2.3.*,!=2.4.*,!=2.5.*,!=2.6.*,!=2.7.*,<3,>=1.15.5->tensorflow_data_validation[visualization]<2) (0.4.6)\n",
            "Requirement already satisfied: packaging>=14.3 in /usr/local/lib/python3.7/dist-packages (from google-api-core<3dev,>=1.21.0->google-api-python-client<2,>=1.7.11->tfx-bsl<1.9,>=1.8.0->tensorflow_data_validation[visualization]<2) (21.3)\n",
            "Requirement already satisfied: requests-oauthlib>=0.7.0 in /usr/local/lib/python3.7/dist-packages (from google-auth-oauthlib<0.5,>=0.4.1->tensorboard<2.9,>=2.8->tensorflow!=2.0.*,!=2.1.*,!=2.2.*,!=2.3.*,!=2.4.*,!=2.5.*,!=2.6.*,!=2.7.*,<3,>=1.15.5->tensorflow_data_validation[visualization]<2) (1.3.1)\n",
            "Requirement already satisfied: importlib-metadata>=4.4 in /usr/local/lib/python3.7/dist-packages (from markdown>=2.6.8->tensorboard<2.9,>=2.8->tensorflow!=2.0.*,!=2.1.*,!=2.2.*,!=2.3.*,!=2.4.*,!=2.5.*,!=2.6.*,!=2.7.*,<3,>=1.15.5->tensorflow_data_validation[visualization]<2) (4.11.4)\n",
            "Requirement already satisfied: pyasn1>=0.1.7 in /usr/local/lib/python3.7/dist-packages (from oauth2client>=1.4.12->google-apitools<0.5.32,>=0.5.31->apache-beam[gcp]<3,>=2.38->tensorflow_data_validation[visualization]<2) (0.4.8)\n",
            "Requirement already satisfied: typing-utils>=0.0.3 in /usr/local/lib/python3.7/dist-packages (from overrides<7.0.0,>=6.0.1->google-cloud-pubsublite<2,>=1.2.0->apache-beam[gcp]<3,>=2.38->tensorflow_data_validation[visualization]<2) (0.1.0)\n",
            "Requirement already satisfied: zipp>=0.5 in /usr/local/lib/python3.7/dist-packages (from importlib-metadata>=4.4->markdown>=2.6.8->tensorboard<2.9,>=2.8->tensorflow!=2.0.*,!=2.1.*,!=2.2.*,!=2.3.*,!=2.4.*,!=2.5.*,!=2.6.*,!=2.7.*,<3,>=1.15.5->tensorflow_data_validation[visualization]<2) (3.8.0)\n",
            "Requirement already satisfied: oauthlib>=3.0.0 in /usr/local/lib/python3.7/dist-packages (from requests-oauthlib>=0.7.0->google-auth-oauthlib<0.5,>=0.4.1->tensorboard<2.9,>=2.8->tensorflow!=2.0.*,!=2.1.*,!=2.2.*,!=2.3.*,!=2.4.*,!=2.5.*,!=2.6.*,!=2.7.*,<3,>=1.15.5->tensorflow_data_validation[visualization]<2) (3.2.0)\n",
            "\u001b[33mWARNING: Running pip as the 'root' user can result in broken permissions and conflicting behaviour with the system package manager. It is recommended to use a virtual environment instead: https://pip.pypa.io/warnings/venv\u001b[0m\u001b[33m\n",
            "\u001b[0m"
          ]
        }
      ],
      "source": [
        "print('Installing TensorFlow Data Validation')\n",
        "!pip install --upgrade 'tensorflow_data_validation[visualization]<2'"
      ]
    },
    {
      "cell_type": "markdown",
      "metadata": {
        "id": "s_NXX5GaSiZx"
      },
      "source": [
        "### Import TensorFlow and reload updated packages\n",
        "\n",
        "The prior step updates the default packages in the Gooogle Colab environment, so you must reload the package resources to resolve the new dependencies.\n",
        "\n",
        "Note: This step resolves the dependency error from the installation. If you are still experiencing code execution problems after running this code, restart the runtime (Runtime > Restart runtime ...)."
      ]
    },
    {
      "cell_type": "code",
      "execution_count": 65,
      "metadata": {
        "id": "E2j9VD9HbGWw",
        "colab": {
          "base_uri": "https://localhost:8080/"
        },
        "outputId": "c6d81ce1-2249-4800-a438-b766be8d52f9"
      },
      "outputs": [
        {
          "output_type": "execute_result",
          "data": {
            "text/plain": [
              "<module 'pkg_resources' from '/usr/local/lib/python3.7/dist-packages/pkg_resources/__init__.py'>"
            ]
          },
          "metadata": {},
          "execution_count": 65
        }
      ],
      "source": [
        "import pkg_resources\n",
        "import importlib\n",
        "importlib.reload(pkg_resources)"
      ]
    },
    {
      "cell_type": "markdown",
      "metadata": {
        "id": "IFXK2AdpSpv0"
      },
      "source": [
        "Check the versions of TensorFlow and the Data Validation before proceeding. "
      ]
    },
    {
      "cell_type": "code",
      "execution_count": 66,
      "metadata": {
        "id": "F5rPatTDSCHB",
        "colab": {
          "base_uri": "https://localhost:8080/"
        },
        "outputId": "57da61ee-cbfd-4a3c-aaeb-3179adf66c54"
      },
      "outputs": [
        {
          "output_type": "stream",
          "name": "stdout",
          "text": [
            "TF version: 2.8.2\n",
            "TFDV version: 1.8.0\n"
          ]
        }
      ],
      "source": [
        "import tensorflow as tf\n",
        "import tensorflow_data_validation as tfdv\n",
        "print('TF version:', tf.__version__)\n",
        "print('TFDV version:', tfdv.version.__version__)"
      ]
    },
    {
      "cell_type": "markdown",
      "metadata": {
        "id": "5MizoHg1DRlK"
      },
      "source": [
        "## Load the dataset\n",
        "We will download our dataset from Google Cloud Storage."
      ]
    },
    {
      "cell_type": "code",
      "execution_count": 67,
      "metadata": {
        "id": "x5gfFiTeDa6Y",
        "colab": {
          "resources": {
            "http://localhost:8080/nbextensions/google.colab/files.js": {
              "data": "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",
              "ok": true,
              "headers": [
                [
                  "content-type",
                  "application/javascript"
                ]
              ],
              "status": 200,
              "status_text": ""
            }
          },
          "base_uri": "https://localhost:8080/",
          "height": 76
        },
        "outputId": "0b4c5393-1492-44b8-c96e-2f481cba6a81"
      },
      "outputs": [
        {
          "output_type": "display_data",
          "data": {
            "text/plain": [
              "<IPython.core.display.HTML object>"
            ],
            "text/html": [
              "\n",
              "     <input type=\"file\" id=\"files-783b7330-245e-421d-afe8-f4330b63bdbb\" name=\"files[]\" multiple disabled\n",
              "        style=\"border:none\" />\n",
              "     <output id=\"result-783b7330-245e-421d-afe8-f4330b63bdbb\">\n",
              "      Upload widget is only available when the cell has been executed in the\n",
              "      current browser session. Please rerun this cell to enable.\n",
              "      </output>\n",
              "      <script src=\"/nbextensions/google.colab/files.js\"></script> "
            ]
          },
          "metadata": {}
        },
        {
          "output_type": "stream",
          "name": "stdout",
          "text": [
            "Saving FS633_w2_天氣對齊.xlsx to FS633_w2_天氣對齊 (2).xlsx\n"
          ]
        }
      ],
      "source": [
        "import os\n",
        "import tempfile, urllib, zipfile\n",
        "\n",
        "from google.colab import files\n",
        "# 上傳csv檔案\n",
        "uploaded = files.upload()\n",
        "\n",
        "# Set up some globals for our file paths\n",
        "# BASE_DIR = tempfile.mkdtemp()\n",
        "# print(BASE_DIR)\n",
        "# DATA_DIR = os.path.join(BASE_DIR, 'data')\n",
        "# OUTPUT_DIR = os.path.join(BASE_DIR, 'chicago_taxi_output')\n",
        "# TRAIN_DATA = os.path.join(DATA_DIR, 'train', 'data.csv')\n",
        "# EVAL_DATA = os.path.join(DATA_DIR, 'eval', 'data.csv')\n",
        "# SERVING_DATA = os.path.join(DATA_DIR, 'serving', 'data.csv')\n",
        "\n",
        "# Download the zip file from GCP and unzip it\n",
        "#zip, headers = urllib.request.urlretrieve('https://storage.googleapis.com/artifacts.tfx-oss-public.appspot.com/datasets/chicago_data.zip')\n",
        "#zipfile.ZipFile(zip).extractall(BASE_DIR)\n",
        "#zipfile.ZipFile(zip).close()\n",
        "\n",
        "#print(\"Here's what we downloaded:\")\n",
        "#!ls -R {os.path.join(BASE_DIR, 'data')}"
      ]
    },
    {
      "cell_type": "code",
      "source": [
        "import pandas as pd\n",
        "import io\n",
        "\n",
        "data = pd.read_excel(io.BytesIO(uploaded['FS633_w2_天氣對齊.xlsx']))\n",
        "\n",
        "#print(data.head)\n",
        "\n",
        "target_column = 'avg'\n",
        "# 去除 'remaining','qty_105'\n",
        "all_column_names = ['avg','qty_105','qty_all', 'festiva_name', 'sale_date', 'stnpres', 'seapres', 'max_temperature', 'min_temperature', \n",
        "                    'avg_temperature', 'min_rh', 'avg_rh', 'avg_wd', 'avg_wdgust', 'max_visb', 'avg_visb', 'max_uvi', 'avg_uvi', \n",
        "                    'max_cloudamount', 'stnpres-2', 'seapres-2', 'min_temperature-2', 'avg_temperature-2', 'max_tddewpoint-2', \n",
        "                    'min_tddewpoint-2', 'avg_tddewpoint-2', 'min_rh-2', 'avg_rh-2', 'max_wd-2', 'max_wdgust-2', 'avg_wdgust-2', \n",
        "                    'max_visb-2', 'min_visb-2', 'avg_visb-2']\n",
        "features_column_names = all_column_names[1:]"
      ],
      "metadata": {
        "id": "O2ruKOttXtbc"
      },
      "execution_count": 68,
      "outputs": []
    },
    {
      "cell_type": "code",
      "source": [
        "train_start = 0\n",
        "train_end = 593\n",
        "val_start = train_end +1\n",
        "val_end = val_start+297\n",
        "\n",
        "t_start = val_end+1\n",
        "t_end = t_start+360\n",
        "\n",
        "\n",
        "tran_rows = val_end + 1\n",
        "\n",
        "#print(data.head)\n",
        "x_data = data[train_start:train_end]\n",
        "TRAIN_DATA = pd.DataFrame(x_data, index=x_data.index, columns=features_column_names)\n",
        "#print(TRAIN_DATA.head)\n",
        "\n",
        "v_data = data[val_start:val_end]\n",
        "EVAL_DATA = pd.DataFrame(v_data, index=v_data.index, columns=features_column_names)\n",
        "#print(EVAL_DATA.head)\n",
        "\n",
        "t_data = data[t_start:t_end]\n",
        "SERVING_DATA =  pd.DataFrame(t_data, index=t_data.index, columns=features_column_names)"
      ],
      "metadata": {
        "id": "yGOdygmcd8NK"
      },
      "execution_count": 69,
      "outputs": []
    },
    {
      "cell_type": "markdown",
      "metadata": {
        "id": "H0sFmiTbT8-x"
      },
      "source": [
        "## Compute and visualize statistics\n",
        "\n",
        "First we'll use [`tfdv.generate_statistics_from_csv`](https://www.tensorflow.org/tfx/data_validation/api_docs/python/tfdv/generate_statistics_from_csv) to compute statistics for our training data. (ignore the snappy warnings)\n",
        "\n",
        "TFDV can compute descriptive [statistics](https://github.com/tensorflow/metadata/blob/v0.6.0/tensorflow_metadata/proto/v0/statistics.proto) that provide a quick overview of the data in terms of the features that are present and the shapes of their value distributions.\n",
        "\n",
        "Internally, TFDV uses [Apache Beam](https://beam.apache.org/)'s data-parallel processing framework to scale the computation of statistics over large datasets. For applications that wish to integrate deeper with TFDV (e.g., attach statistics generation at the end of a data-generation pipeline), the API also exposes a Beam PTransform for statistics generation."
      ]
    },
    {
      "cell_type": "code",
      "execution_count": 70,
      "metadata": {
        "id": "EE481oMbT-H0"
      },
      "outputs": [],
      "source": [
        "train_stats = tfdv.generate_statistics_from_dataframe(TRAIN_DATA)"
      ]
    },
    {
      "cell_type": "markdown",
      "metadata": {
        "id": "JhXQSxJ2dB_6"
      },
      "source": [
        "Now let's use [`tfdv.visualize_statistics`](https://www.tensorflow.org/tfx/data_validation/api_docs/python/tfdv/visualize_statistics), which uses [Facets](https://pair-code.github.io/facets/) to create a succinct visualization of our training data:\n",
        "\n",
        "* Notice that numeric features and catagorical features are visualized separately, and that charts are displayed showing the distributions for each feature.\n",
        "* Notice that features with missing or zero values display a percentage in red as a visual indicator that there may be issues with examples in those features.  The percentage is the percentage of examples that have missing or zero values for that feature.\n",
        "* Notice that there are no examples with values for `pickup_census_tract`.  This is an opportunity for dimensionality reduction!\n",
        "* Try clicking \"expand\" above the charts to change the display\n",
        "* Try hovering over bars in the charts to display bucket ranges and counts\n",
        "* Try switching between the log and linear scales, and notice how the log scale reveals much more detail about the `payment_type` categorical feature\n",
        "* Try selecting \"quantiles\" from the \"Chart to show\" menu, and hover over the markers to show the quantile percentages"
      ]
    },
    {
      "cell_type": "code",
      "execution_count": 71,
      "metadata": {
        "id": "U3tUKgh7Up3x",
        "colab": {
          "base_uri": "https://localhost:8080/",
          "height": 1000
        },
        "outputId": "c3f6c65c-6297-4ace-aed8-7cef19cf82f9"
      },
      "outputs": [
        {
          "output_type": "display_data",
          "data": {
            "text/plain": [
              "<IPython.core.display.HTML object>"
            ],
            "text/html": [
              "<iframe id='facets-iframe' width=\"100%\" height=\"500px\"></iframe>\n",
              "        <script>\n",
              "        facets_iframe = document.getElementById('facets-iframe');\n",
              "        facets_html = '<script src=\"https://cdnjs.cloudflare.com/ajax/libs/webcomponentsjs/1.3.3/webcomponents-lite.js\"><\\/script><link rel=\"import\" href=\"https://raw.githubusercontent.com/PAIR-code/facets/master/facets-dist/facets-jupyter.html\"><facets-overview proto-input=\"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\"></facets-overview>';\n",
              "        facets_iframe.srcdoc = facets_html;\n",
              "         facets_iframe.id = \"\";\n",
              "         setTimeout(() => {\n",
              "           facets_iframe.setAttribute('height', facets_iframe.contentWindow.document.body.offsetHeight + 'px')\n",
              "         }, 1500)\n",
              "         </script>"
            ]
          },
          "metadata": {}
        }
      ],
      "source": [
        "# docs-infra: no-execute\n",
        "tfdv.visualize_statistics(train_stats)"
      ]
    },
    {
      "cell_type": "markdown",
      "metadata": {
        "id": "Xoc0ijE5LYeQ"
      },
      "source": [
        "<!-- <img class=\"tfo-display-only-on-site\" src=\"images/statistics.png\"/> -->"
      ]
    },
    {
      "cell_type": "markdown",
      "metadata": {
        "id": "KVR02-y4V0uM"
      },
      "source": [
        "## Infer a schema\n",
        "\n",
        "Now let's use [`tfdv.infer_schema`](https://www.tensorflow.org/tfx/data_validation/api_docs/python/tfdv/infer_schema) to create a schema for our data.  A schema defines constraints for the data that are relevant for ML. Example constraints include the data type of each feature, whether it's numerical or categorical, or the frequency of its presence in the data.  For categorical features the schema also defines the domain - the list of acceptable values.  Since writing a schema can be a tedious task, especially for datasets with lots of features, TFDV provides a method to generate an initial version of the schema based on the descriptive statistics.\n",
        "\n",
        "Getting the schema right is important because the rest of our production pipeline will be relying on the schema that TFDV generates to be correct.  The schema also provides documentation for the data, and so is useful when different developers work on the same data.  Let's use [`tfdv.display_schema`](https://www.tensorflow.org/tfx/data_validation/api_docs/python/tfdv/display_schema) to display the inferred schema so that we can review it."
      ]
    },
    {
      "cell_type": "code",
      "execution_count": 72,
      "metadata": {
        "id": "6LLkRJThVr9m",
        "colab": {
          "base_uri": "https://localhost:8080/",
          "height": 1000
        },
        "outputId": "13795797-b1d0-4a8a-8d79-f1999bf20a4e"
      },
      "outputs": [
        {
          "output_type": "display_data",
          "data": {
            "text/plain": [
              "                       Type  Presence Valency          Domain\n",
              "Feature name                                                 \n",
              "'qty_105'               INT  required                       -\n",
              "'qty_all'               INT  required                       -\n",
              "'festiva_name'       STRING  required          'festiva_name'\n",
              "'sale_date'           FLOAT  required                       -\n",
              "'stnpres'             FLOAT  required                       -\n",
              "'seapres'             FLOAT  required                       -\n",
              "'max_temperature'     FLOAT  required                       -\n",
              "'min_temperature'     FLOAT  required                       -\n",
              "'avg_temperature'     FLOAT  required                       -\n",
              "'min_rh'                INT  required                       -\n",
              "'avg_rh'              FLOAT  required                       -\n",
              "'avg_wd'              FLOAT  required                       -\n",
              "'avg_wdgust'          FLOAT  required                       -\n",
              "'max_visb'            FLOAT  required                       -\n",
              "'avg_visb'            FLOAT  required                       -\n",
              "'max_uvi'               INT  required                       -\n",
              "'avg_uvi'             FLOAT  required                       -\n",
              "'max_cloudamount'       INT  required                       -\n",
              "'stnpres-2'           FLOAT  required                       -\n",
              "'seapres-2'           FLOAT  required                       -\n",
              "'min_temperature-2'   FLOAT  required                       -\n",
              "'avg_temperature-2'   FLOAT  required                       -\n",
              "'max_tddewpoint-2'    FLOAT  required                       -\n",
              "'min_tddewpoint-2'    FLOAT  required                       -\n",
              "'avg_tddewpoint-2'    FLOAT  required                       -\n",
              "'min_rh-2'              INT  required                       -\n",
              "'avg_rh-2'            FLOAT  required                       -\n",
              "'max_wd-2'              INT  required                       -\n",
              "'max_wdgust-2'          INT  required                       -\n",
              "'avg_wdgust-2'        FLOAT  required                       -\n",
              "'max_visb-2'          FLOAT  required                       -\n",
              "'min_visb-2'          FLOAT  required                       -\n",
              "'avg_visb-2'          FLOAT  required                       -"
            ],
            "text/html": [
              "\n",
              "  <div id=\"df-baba7d7f-f156-406d-b927-128881dad814\">\n",
              "    <div class=\"colab-df-container\">\n",
              "      <div>\n",
              "<style scoped>\n",
              "    .dataframe tbody tr th:only-of-type {\n",
              "        vertical-align: middle;\n",
              "    }\n",
              "\n",
              "    .dataframe tbody tr th {\n",
              "        vertical-align: top;\n",
              "    }\n",
              "\n",
              "    .dataframe thead th {\n",
              "        text-align: right;\n",
              "    }\n",
              "</style>\n",
              "<table border=\"1\" class=\"dataframe\">\n",
              "  <thead>\n",
              "    <tr style=\"text-align: right;\">\n",
              "      <th></th>\n",
              "      <th>Type</th>\n",
              "      <th>Presence</th>\n",
              "      <th>Valency</th>\n",
              "      <th>Domain</th>\n",
              "    </tr>\n",
              "    <tr>\n",
              "      <th>Feature name</th>\n",
              "      <th></th>\n",
              "      <th></th>\n",
              "      <th></th>\n",
              "      <th></th>\n",
              "    </tr>\n",
              "  </thead>\n",
              "  <tbody>\n",
              "    <tr>\n",
              "      <th>'qty_105'</th>\n",
              "      <td>INT</td>\n",
              "      <td>required</td>\n",
              "      <td></td>\n",
              "      <td>-</td>\n",
              "    </tr>\n",
              "    <tr>\n",
              "      <th>'qty_all'</th>\n",
              "      <td>INT</td>\n",
              "      <td>required</td>\n",
              "      <td></td>\n",
              "      <td>-</td>\n",
              "    </tr>\n",
              "    <tr>\n",
              "      <th>'festiva_name'</th>\n",
              "      <td>STRING</td>\n",
              "      <td>required</td>\n",
              "      <td></td>\n",
              "      <td>'festiva_name'</td>\n",
              "    </tr>\n",
              "    <tr>\n",
              "      <th>'sale_date'</th>\n",
              "      <td>FLOAT</td>\n",
              "      <td>required</td>\n",
              "      <td></td>\n",
              "      <td>-</td>\n",
              "    </tr>\n",
              "    <tr>\n",
              "      <th>'stnpres'</th>\n",
              "      <td>FLOAT</td>\n",
              "      <td>required</td>\n",
              "      <td></td>\n",
              "      <td>-</td>\n",
              "    </tr>\n",
              "    <tr>\n",
              "      <th>'seapres'</th>\n",
              "      <td>FLOAT</td>\n",
              "      <td>required</td>\n",
              "      <td></td>\n",
              "      <td>-</td>\n",
              "    </tr>\n",
              "    <tr>\n",
              "      <th>'max_temperature'</th>\n",
              "      <td>FLOAT</td>\n",
              "      <td>required</td>\n",
              "      <td></td>\n",
              "      <td>-</td>\n",
              "    </tr>\n",
              "    <tr>\n",
              "      <th>'min_temperature'</th>\n",
              "      <td>FLOAT</td>\n",
              "      <td>required</td>\n",
              "      <td></td>\n",
              "      <td>-</td>\n",
              "    </tr>\n",
              "    <tr>\n",
              "      <th>'avg_temperature'</th>\n",
              "      <td>FLOAT</td>\n",
              "      <td>required</td>\n",
              "      <td></td>\n",
              "      <td>-</td>\n",
              "    </tr>\n",
              "    <tr>\n",
              "      <th>'min_rh'</th>\n",
              "      <td>INT</td>\n",
              "      <td>required</td>\n",
              "      <td></td>\n",
              "      <td>-</td>\n",
              "    </tr>\n",
              "    <tr>\n",
              "      <th>'avg_rh'</th>\n",
              "      <td>FLOAT</td>\n",
              "      <td>required</td>\n",
              "      <td></td>\n",
              "      <td>-</td>\n",
              "    </tr>\n",
              "    <tr>\n",
              "      <th>'avg_wd'</th>\n",
              "      <td>FLOAT</td>\n",
              "      <td>required</td>\n",
              "      <td></td>\n",
              "      <td>-</td>\n",
              "    </tr>\n",
              "    <tr>\n",
              "      <th>'avg_wdgust'</th>\n",
              "      <td>FLOAT</td>\n",
              "      <td>required</td>\n",
              "      <td></td>\n",
              "      <td>-</td>\n",
              "    </tr>\n",
              "    <tr>\n",
              "      <th>'max_visb'</th>\n",
              "      <td>FLOAT</td>\n",
              "      <td>required</td>\n",
              "      <td></td>\n",
              "      <td>-</td>\n",
              "    </tr>\n",
              "    <tr>\n",
              "      <th>'avg_visb'</th>\n",
              "      <td>FLOAT</td>\n",
              "      <td>required</td>\n",
              "      <td></td>\n",
              "      <td>-</td>\n",
              "    </tr>\n",
              "    <tr>\n",
              "      <th>'max_uvi'</th>\n",
              "      <td>INT</td>\n",
              "      <td>required</td>\n",
              "      <td></td>\n",
              "      <td>-</td>\n",
              "    </tr>\n",
              "    <tr>\n",
              "      <th>'avg_uvi'</th>\n",
              "      <td>FLOAT</td>\n",
              "      <td>required</td>\n",
              "      <td></td>\n",
              "      <td>-</td>\n",
              "    </tr>\n",
              "    <tr>\n",
              "      <th>'max_cloudamount'</th>\n",
              "      <td>INT</td>\n",
              "      <td>required</td>\n",
              "      <td></td>\n",
              "      <td>-</td>\n",
              "    </tr>\n",
              "    <tr>\n",
              "      <th>'stnpres-2'</th>\n",
              "      <td>FLOAT</td>\n",
              "      <td>required</td>\n",
              "      <td></td>\n",
              "      <td>-</td>\n",
              "    </tr>\n",
              "    <tr>\n",
              "      <th>'seapres-2'</th>\n",
              "      <td>FLOAT</td>\n",
              "      <td>required</td>\n",
              "      <td></td>\n",
              "      <td>-</td>\n",
              "    </tr>\n",
              "    <tr>\n",
              "      <th>'min_temperature-2'</th>\n",
              "      <td>FLOAT</td>\n",
              "      <td>required</td>\n",
              "      <td></td>\n",
              "      <td>-</td>\n",
              "    </tr>\n",
              "    <tr>\n",
              "      <th>'avg_temperature-2'</th>\n",
              "      <td>FLOAT</td>\n",
              "      <td>required</td>\n",
              "      <td></td>\n",
              "      <td>-</td>\n",
              "    </tr>\n",
              "    <tr>\n",
              "      <th>'max_tddewpoint-2'</th>\n",
              "      <td>FLOAT</td>\n",
              "      <td>required</td>\n",
              "      <td></td>\n",
              "      <td>-</td>\n",
              "    </tr>\n",
              "    <tr>\n",
              "      <th>'min_tddewpoint-2'</th>\n",
              "      <td>FLOAT</td>\n",
              "      <td>required</td>\n",
              "      <td></td>\n",
              "      <td>-</td>\n",
              "    </tr>\n",
              "    <tr>\n",
              "      <th>'avg_tddewpoint-2'</th>\n",
              "      <td>FLOAT</td>\n",
              "      <td>required</td>\n",
              "      <td></td>\n",
              "      <td>-</td>\n",
              "    </tr>\n",
              "    <tr>\n",
              "      <th>'min_rh-2'</th>\n",
              "      <td>INT</td>\n",
              "      <td>required</td>\n",
              "      <td></td>\n",
              "      <td>-</td>\n",
              "    </tr>\n",
              "    <tr>\n",
              "      <th>'avg_rh-2'</th>\n",
              "      <td>FLOAT</td>\n",
              "      <td>required</td>\n",
              "      <td></td>\n",
              "      <td>-</td>\n",
              "    </tr>\n",
              "    <tr>\n",
              "      <th>'max_wd-2'</th>\n",
              "      <td>INT</td>\n",
              "      <td>required</td>\n",
              "      <td></td>\n",
              "      <td>-</td>\n",
              "    </tr>\n",
              "    <tr>\n",
              "      <th>'max_wdgust-2'</th>\n",
              "      <td>INT</td>\n",
              "      <td>required</td>\n",
              "      <td></td>\n",
              "      <td>-</td>\n",
              "    </tr>\n",
              "    <tr>\n",
              "      <th>'avg_wdgust-2'</th>\n",
              "      <td>FLOAT</td>\n",
              "      <td>required</td>\n",
              "      <td></td>\n",
              "      <td>-</td>\n",
              "    </tr>\n",
              "    <tr>\n",
              "      <th>'max_visb-2'</th>\n",
              "      <td>FLOAT</td>\n",
              "      <td>required</td>\n",
              "      <td></td>\n",
              "      <td>-</td>\n",
              "    </tr>\n",
              "    <tr>\n",
              "      <th>'min_visb-2'</th>\n",
              "      <td>FLOAT</td>\n",
              "      <td>required</td>\n",
              "      <td></td>\n",
              "      <td>-</td>\n",
              "    </tr>\n",
              "    <tr>\n",
              "      <th>'avg_visb-2'</th>\n",
              "      <td>FLOAT</td>\n",
              "      <td>required</td>\n",
              "      <td></td>\n",
              "      <td>-</td>\n",
              "    </tr>\n",
              "  </tbody>\n",
              "</table>\n",
              "</div>\n",
              "      <button class=\"colab-df-convert\" onclick=\"convertToInteractive('df-baba7d7f-f156-406d-b927-128881dad814')\"\n",
              "              title=\"Convert this dataframe to an interactive table.\"\n",
              "              style=\"display:none;\">\n",
              "        \n",
              "  <svg xmlns=\"http://www.w3.org/2000/svg\" height=\"24px\"viewBox=\"0 0 24 24\"\n",
              "       width=\"24px\">\n",
              "    <path d=\"M0 0h24v24H0V0z\" fill=\"none\"/>\n",
              "    <path d=\"M18.56 5.44l.94 2.06.94-2.06 2.06-.94-2.06-.94-.94-2.06-.94 2.06-2.06.94zm-11 1L8.5 8.5l.94-2.06 2.06-.94-2.06-.94L8.5 2.5l-.94 2.06-2.06.94zm10 10l.94 2.06.94-2.06 2.06-.94-2.06-.94-.94-2.06-.94 2.06-2.06.94z\"/><path d=\"M17.41 7.96l-1.37-1.37c-.4-.4-.92-.59-1.43-.59-.52 0-1.04.2-1.43.59L10.3 9.45l-7.72 7.72c-.78.78-.78 2.05 0 2.83L4 21.41c.39.39.9.59 1.41.59.51 0 1.02-.2 1.41-.59l7.78-7.78 2.81-2.81c.8-.78.8-2.07 0-2.86zM5.41 20L4 18.59l7.72-7.72 1.47 1.35L5.41 20z\"/>\n",
              "  </svg>\n",
              "      </button>\n",
              "      \n",
              "  <style>\n",
              "    .colab-df-container {\n",
              "      display:flex;\n",
              "      flex-wrap:wrap;\n",
              "      gap: 12px;\n",
              "    }\n",
              "\n",
              "    .colab-df-convert {\n",
              "      background-color: #E8F0FE;\n",
              "      border: none;\n",
              "      border-radius: 50%;\n",
              "      cursor: pointer;\n",
              "      display: none;\n",
              "      fill: #1967D2;\n",
              "      height: 32px;\n",
              "      padding: 0 0 0 0;\n",
              "      width: 32px;\n",
              "    }\n",
              "\n",
              "    .colab-df-convert:hover {\n",
              "      background-color: #E2EBFA;\n",
              "      box-shadow: 0px 1px 2px rgba(60, 64, 67, 0.3), 0px 1px 3px 1px rgba(60, 64, 67, 0.15);\n",
              "      fill: #174EA6;\n",
              "    }\n",
              "\n",
              "    [theme=dark] .colab-df-convert {\n",
              "      background-color: #3B4455;\n",
              "      fill: #D2E3FC;\n",
              "    }\n",
              "\n",
              "    [theme=dark] .colab-df-convert:hover {\n",
              "      background-color: #434B5C;\n",
              "      box-shadow: 0px 1px 3px 1px rgba(0, 0, 0, 0.15);\n",
              "      filter: drop-shadow(0px 1px 2px rgba(0, 0, 0, 0.3));\n",
              "      fill: #FFFFFF;\n",
              "    }\n",
              "  </style>\n",
              "\n",
              "      <script>\n",
              "        const buttonEl =\n",
              "          document.querySelector('#df-baba7d7f-f156-406d-b927-128881dad814 button.colab-df-convert');\n",
              "        buttonEl.style.display =\n",
              "          google.colab.kernel.accessAllowed ? 'block' : 'none';\n",
              "\n",
              "        async function convertToInteractive(key) {\n",
              "          const element = document.querySelector('#df-baba7d7f-f156-406d-b927-128881dad814');\n",
              "          const dataTable =\n",
              "            await google.colab.kernel.invokeFunction('convertToInteractive',\n",
              "                                                     [key], {});\n",
              "          if (!dataTable) return;\n",
              "\n",
              "          const docLinkHtml = 'Like what you see? Visit the ' +\n",
              "            '<a target=\"_blank\" href=https://colab.research.google.com/notebooks/data_table.ipynb>data table notebook</a>'\n",
              "            + ' to learn more about interactive tables.';\n",
              "          element.innerHTML = '';\n",
              "          dataTable['output_type'] = 'display_data';\n",
              "          await google.colab.output.renderOutput(dataTable, element);\n",
              "          const docLink = document.createElement('div');\n",
              "          docLink.innerHTML = docLinkHtml;\n",
              "          element.appendChild(docLink);\n",
              "        }\n",
              "      </script>\n",
              "    </div>\n",
              "  </div>\n",
              "  "
            ]
          },
          "metadata": {}
        },
        {
          "output_type": "display_data",
          "data": {
            "text/plain": [
              "                                                                                                                                                                                                                                                                                                                                                                                                          Values\n",
              "Domain                                                                                                                                                                                                                                                                                                                                                                                                          \n",
              "'festiva_name'  '一般', '七夕', '中元節農曆7/15', '中秋節農曆8/15', '佛陀誔辰紀念日', '元宵節農曆1/15', '元旦', '兒童節', '冬至', '勞動節', '國慶日', '婦女節', '平安夜', '情人節', '愚人節', '感恩節', '教師節', '植樹節', '母親節', '清明', '端午節', '耶誕節', '臘八節', '農曆10/1', '農曆10/15', '農曆11/1', '農曆11/15', '農曆12/1', '農曆12/15', '農曆2/1', '農曆2/15', '農曆3/1', '農曆3/15', '農曆4/1', '農曆4/15', '農曆5/1', '農曆5/15', '農曆6/1', '農曆6/15', '農曆7/1', '農曆8/1', '農曆9/1', '農曆9/15', '重陽節', '除夕'"
            ],
            "text/html": [
              "\n",
              "  <div id=\"df-329ae255-e58b-45fd-9c4f-95a45ee55689\">\n",
              "    <div class=\"colab-df-container\">\n",
              "      <div>\n",
              "<style scoped>\n",
              "    .dataframe tbody tr th:only-of-type {\n",
              "        vertical-align: middle;\n",
              "    }\n",
              "\n",
              "    .dataframe tbody tr th {\n",
              "        vertical-align: top;\n",
              "    }\n",
              "\n",
              "    .dataframe thead th {\n",
              "        text-align: right;\n",
              "    }\n",
              "</style>\n",
              "<table border=\"1\" class=\"dataframe\">\n",
              "  <thead>\n",
              "    <tr style=\"text-align: right;\">\n",
              "      <th></th>\n",
              "      <th>Values</th>\n",
              "    </tr>\n",
              "    <tr>\n",
              "      <th>Domain</th>\n",
              "      <th></th>\n",
              "    </tr>\n",
              "  </thead>\n",
              "  <tbody>\n",
              "    <tr>\n",
              "      <th>'festiva_name'</th>\n",
              "      <td>'一般', '七夕', '中元節農曆7/15', '中秋節農曆8/15', '佛陀誔辰紀念日', '元宵節農曆1/15', '元旦', '兒童節', '冬至', '勞動節', '國慶日', '婦女節', '平安夜', '情人節', '愚人節', '感恩節', '教師節', '植樹節', '母親節', '清明', '端午節', '耶誕節', '臘八節', '農曆10/1', '農曆10/15', '農曆11/1', '農曆11/15', '農曆12/1', '農曆12/15', '農曆2/1', '農曆2/15', '農曆3/1', '農曆3/15', '農曆4/1', '農曆4/15', '農曆5/1', '農曆5/15', '農曆6/1', '農曆6/15', '農曆7/1', '農曆8/1', '農曆9/1', '農曆9/15', '重陽節', '除夕'</td>\n",
              "    </tr>\n",
              "  </tbody>\n",
              "</table>\n",
              "</div>\n",
              "      <button class=\"colab-df-convert\" onclick=\"convertToInteractive('df-329ae255-e58b-45fd-9c4f-95a45ee55689')\"\n",
              "              title=\"Convert this dataframe to an interactive table.\"\n",
              "              style=\"display:none;\">\n",
              "        \n",
              "  <svg xmlns=\"http://www.w3.org/2000/svg\" height=\"24px\"viewBox=\"0 0 24 24\"\n",
              "       width=\"24px\">\n",
              "    <path d=\"M0 0h24v24H0V0z\" fill=\"none\"/>\n",
              "    <path d=\"M18.56 5.44l.94 2.06.94-2.06 2.06-.94-2.06-.94-.94-2.06-.94 2.06-2.06.94zm-11 1L8.5 8.5l.94-2.06 2.06-.94-2.06-.94L8.5 2.5l-.94 2.06-2.06.94zm10 10l.94 2.06.94-2.06 2.06-.94-2.06-.94-.94-2.06-.94 2.06-2.06.94z\"/><path d=\"M17.41 7.96l-1.37-1.37c-.4-.4-.92-.59-1.43-.59-.52 0-1.04.2-1.43.59L10.3 9.45l-7.72 7.72c-.78.78-.78 2.05 0 2.83L4 21.41c.39.39.9.59 1.41.59.51 0 1.02-.2 1.41-.59l7.78-7.78 2.81-2.81c.8-.78.8-2.07 0-2.86zM5.41 20L4 18.59l7.72-7.72 1.47 1.35L5.41 20z\"/>\n",
              "  </svg>\n",
              "      </button>\n",
              "      \n",
              "  <style>\n",
              "    .colab-df-container {\n",
              "      display:flex;\n",
              "      flex-wrap:wrap;\n",
              "      gap: 12px;\n",
              "    }\n",
              "\n",
              "    .colab-df-convert {\n",
              "      background-color: #E8F0FE;\n",
              "      border: none;\n",
              "      border-radius: 50%;\n",
              "      cursor: pointer;\n",
              "      display: none;\n",
              "      fill: #1967D2;\n",
              "      height: 32px;\n",
              "      padding: 0 0 0 0;\n",
              "      width: 32px;\n",
              "    }\n",
              "\n",
              "    .colab-df-convert:hover {\n",
              "      background-color: #E2EBFA;\n",
              "      box-shadow: 0px 1px 2px rgba(60, 64, 67, 0.3), 0px 1px 3px 1px rgba(60, 64, 67, 0.15);\n",
              "      fill: #174EA6;\n",
              "    }\n",
              "\n",
              "    [theme=dark] .colab-df-convert {\n",
              "      background-color: #3B4455;\n",
              "      fill: #D2E3FC;\n",
              "    }\n",
              "\n",
              "    [theme=dark] .colab-df-convert:hover {\n",
              "      background-color: #434B5C;\n",
              "      box-shadow: 0px 1px 3px 1px rgba(0, 0, 0, 0.15);\n",
              "      filter: drop-shadow(0px 1px 2px rgba(0, 0, 0, 0.3));\n",
              "      fill: #FFFFFF;\n",
              "    }\n",
              "  </style>\n",
              "\n",
              "      <script>\n",
              "        const buttonEl =\n",
              "          document.querySelector('#df-329ae255-e58b-45fd-9c4f-95a45ee55689 button.colab-df-convert');\n",
              "        buttonEl.style.display =\n",
              "          google.colab.kernel.accessAllowed ? 'block' : 'none';\n",
              "\n",
              "        async function convertToInteractive(key) {\n",
              "          const element = document.querySelector('#df-329ae255-e58b-45fd-9c4f-95a45ee55689');\n",
              "          const dataTable =\n",
              "            await google.colab.kernel.invokeFunction('convertToInteractive',\n",
              "                                                     [key], {});\n",
              "          if (!dataTable) return;\n",
              "\n",
              "          const docLinkHtml = 'Like what you see? Visit the ' +\n",
              "            '<a target=\"_blank\" href=https://colab.research.google.com/notebooks/data_table.ipynb>data table notebook</a>'\n",
              "            + ' to learn more about interactive tables.';\n",
              "          element.innerHTML = '';\n",
              "          dataTable['output_type'] = 'display_data';\n",
              "          await google.colab.output.renderOutput(dataTable, element);\n",
              "          const docLink = document.createElement('div');\n",
              "          docLink.innerHTML = docLinkHtml;\n",
              "          element.appendChild(docLink);\n",
              "        }\n",
              "      </script>\n",
              "    </div>\n",
              "  </div>\n",
              "  "
            ]
          },
          "metadata": {}
        }
      ],
      "source": [
        "schema = tfdv.infer_schema(statistics=train_stats)\n",
        "tfdv.display_schema(schema=schema)"
      ]
    },
    {
      "cell_type": "markdown",
      "metadata": {
        "id": "ZVa3EXE8WEDE"
      },
      "source": [
        "## Check evaluation data for errors\n",
        "\n",
        "So far we've only been looking at the training data.  It's important that our evaluation data is consistent with our training data, including that it uses the same schema.  It's also important that the evaluation data includes examples of roughly the same ranges of values for our numerical features as our training data, so that our coverage of the loss surface during evaluation is roughly the same as during training.  The same is true for categorical features.  Otherwise, we may have training issues that are not identified during evaluation, because we didn't evaluate part of our loss surface.\n",
        "\n",
        "* Notice that each feature now includes statistics for both the training and evaluation datasets.\n",
        "* Notice that the charts now have both the training and evaluation datasets overlaid, making it easy to compare them.\n",
        "* Notice that the charts now include a percentages view, which can be combined with log or the default linear scales.\n",
        "* Notice that the mean and median for `trip_miles` are different for the training versus the evaluation datasets.  Will that cause problems?\n",
        "* Wow, the max `tips` is very different for the training versus the evaluation datasets.  Will that cause problems?\n",
        "* Click expand on the Numeric Features chart, and select the log scale.  Review the `trip_seconds` feature, and notice the difference in the max.  Will evaluation miss parts of the loss surface?"
      ]
    },
    {
      "cell_type": "code",
      "execution_count": 73,
      "metadata": {
        "id": "j_P0RLYlV6XG"
      },
      "outputs": [],
      "source": [
        "# Compute stats for evaluation data\n",
        "eval_stats = tfdv.generate_statistics_from_dataframe(EVAL_DATA)"
      ]
    },
    {
      "cell_type": "code",
      "execution_count": 74,
      "metadata": {
        "id": "Qn-3fQWJLimn",
        "colab": {
          "base_uri": "https://localhost:8080/",
          "height": 1000
        },
        "outputId": "b771d0b8-8312-46af-cde9-b525f1a02b52"
      },
      "outputs": [
        {
          "output_type": "display_data",
          "data": {
            "text/plain": [
              "<IPython.core.display.HTML object>"
            ],
            "text/html": [
              "<iframe id='facets-iframe' width=\"100%\" height=\"500px\"></iframe>\n",
              "        <script>\n",
              "        facets_iframe = document.getElementById('facets-iframe');\n",
              "        facets_html = '<script src=\"https://cdnjs.cloudflare.com/ajax/libs/webcomponentsjs/1.3.3/webcomponents-lite.js\"><\\/script><link rel=\"import\" href=\"https://raw.githubusercontent.com/PAIR-code/facets/master/facets-dist/facets-jupyter.html\"><facets-overview proto-input=\"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\"></facets-overview>';\n",
              "        facets_iframe.srcdoc = facets_html;\n",
              "         facets_iframe.id = \"\";\n",
              "         setTimeout(() => {\n",
              "           facets_iframe.setAttribute('height', facets_iframe.contentWindow.document.body.offsetHeight + 'px')\n",
              "         }, 1500)\n",
              "         </script>"
            ]
          },
          "metadata": {}
        }
      ],
      "source": [
        "# docs-infra: no-execute\n",
        "# Compare evaluation data with training data\n",
        "tfdv.visualize_statistics(lhs_statistics=eval_stats, rhs_statistics=train_stats,\n",
        "                          lhs_name='EVAL_DATASET', rhs_name='TRAIN_DATASET')"
      ]
    },
    {
      "cell_type": "markdown",
      "metadata": {
        "id": "MS4u82lzLeRh"
      },
      "source": [
        "<!-- <img class=\"tfo-display-only-on-site\" src=\"images/statistics_eval.png\"/> -->"
      ]
    },
    {
      "cell_type": "markdown",
      "metadata": {
        "id": "ycRRa4leHp84"
      },
      "source": [
        "## Check for evaluation anomalies\n",
        "\n",
        "Does our evaluation dataset match the schema from our training dataset?  This is especially important for categorical features, where we want to identify the range of acceptable values.\n",
        "\n",
        "Key Point: What would happen if we tried to evaluate using data with categorical feature values that were not in our training dataset?  What about numeric features that are outside the ranges in our training dataset?"
      ]
    },
    {
      "cell_type": "code",
      "execution_count": 75,
      "metadata": {
        "id": "T7uGVeL2WOam",
        "colab": {
          "base_uri": "https://localhost:8080/",
          "height": 112
        },
        "outputId": "3ec1fb7e-3d5b-4020-89d7-cea14b0fb722"
      },
      "outputs": [
        {
          "output_type": "display_data",
          "data": {
            "text/plain": [
              "               Anomaly short description  \\\n",
              "Feature name                               \n",
              "'festiva_name'  Unexpected string values   \n",
              "\n",
              "                                                                    Anomaly long description  \n",
              "Feature name                                                                                  \n",
              "'festiva_name'  Examples contain values missing from the schema: 清明農曆3/15 (<1%), 父親節 (<1%).   "
            ],
            "text/html": [
              "\n",
              "  <div id=\"df-c64f3b3d-53b0-4d74-bf9d-83d2f31ed1cc\">\n",
              "    <div class=\"colab-df-container\">\n",
              "      <div>\n",
              "<style scoped>\n",
              "    .dataframe tbody tr th:only-of-type {\n",
              "        vertical-align: middle;\n",
              "    }\n",
              "\n",
              "    .dataframe tbody tr th {\n",
              "        vertical-align: top;\n",
              "    }\n",
              "\n",
              "    .dataframe thead th {\n",
              "        text-align: right;\n",
              "    }\n",
              "</style>\n",
              "<table border=\"1\" class=\"dataframe\">\n",
              "  <thead>\n",
              "    <tr style=\"text-align: right;\">\n",
              "      <th></th>\n",
              "      <th>Anomaly short description</th>\n",
              "      <th>Anomaly long description</th>\n",
              "    </tr>\n",
              "    <tr>\n",
              "      <th>Feature name</th>\n",
              "      <th></th>\n",
              "      <th></th>\n",
              "    </tr>\n",
              "  </thead>\n",
              "  <tbody>\n",
              "    <tr>\n",
              "      <th>'festiva_name'</th>\n",
              "      <td>Unexpected string values</td>\n",
              "      <td>Examples contain values missing from the schema: 清明農曆3/15 (&lt;1%), 父親節 (&lt;1%).</td>\n",
              "    </tr>\n",
              "  </tbody>\n",
              "</table>\n",
              "</div>\n",
              "      <button class=\"colab-df-convert\" onclick=\"convertToInteractive('df-c64f3b3d-53b0-4d74-bf9d-83d2f31ed1cc')\"\n",
              "              title=\"Convert this dataframe to an interactive table.\"\n",
              "              style=\"display:none;\">\n",
              "        \n",
              "  <svg xmlns=\"http://www.w3.org/2000/svg\" height=\"24px\"viewBox=\"0 0 24 24\"\n",
              "       width=\"24px\">\n",
              "    <path d=\"M0 0h24v24H0V0z\" fill=\"none\"/>\n",
              "    <path d=\"M18.56 5.44l.94 2.06.94-2.06 2.06-.94-2.06-.94-.94-2.06-.94 2.06-2.06.94zm-11 1L8.5 8.5l.94-2.06 2.06-.94-2.06-.94L8.5 2.5l-.94 2.06-2.06.94zm10 10l.94 2.06.94-2.06 2.06-.94-2.06-.94-.94-2.06-.94 2.06-2.06.94z\"/><path d=\"M17.41 7.96l-1.37-1.37c-.4-.4-.92-.59-1.43-.59-.52 0-1.04.2-1.43.59L10.3 9.45l-7.72 7.72c-.78.78-.78 2.05 0 2.83L4 21.41c.39.39.9.59 1.41.59.51 0 1.02-.2 1.41-.59l7.78-7.78 2.81-2.81c.8-.78.8-2.07 0-2.86zM5.41 20L4 18.59l7.72-7.72 1.47 1.35L5.41 20z\"/>\n",
              "  </svg>\n",
              "      </button>\n",
              "      \n",
              "  <style>\n",
              "    .colab-df-container {\n",
              "      display:flex;\n",
              "      flex-wrap:wrap;\n",
              "      gap: 12px;\n",
              "    }\n",
              "\n",
              "    .colab-df-convert {\n",
              "      background-color: #E8F0FE;\n",
              "      border: none;\n",
              "      border-radius: 50%;\n",
              "      cursor: pointer;\n",
              "      display: none;\n",
              "      fill: #1967D2;\n",
              "      height: 32px;\n",
              "      padding: 0 0 0 0;\n",
              "      width: 32px;\n",
              "    }\n",
              "\n",
              "    .colab-df-convert:hover {\n",
              "      background-color: #E2EBFA;\n",
              "      box-shadow: 0px 1px 2px rgba(60, 64, 67, 0.3), 0px 1px 3px 1px rgba(60, 64, 67, 0.15);\n",
              "      fill: #174EA6;\n",
              "    }\n",
              "\n",
              "    [theme=dark] .colab-df-convert {\n",
              "      background-color: #3B4455;\n",
              "      fill: #D2E3FC;\n",
              "    }\n",
              "\n",
              "    [theme=dark] .colab-df-convert:hover {\n",
              "      background-color: #434B5C;\n",
              "      box-shadow: 0px 1px 3px 1px rgba(0, 0, 0, 0.15);\n",
              "      filter: drop-shadow(0px 1px 2px rgba(0, 0, 0, 0.3));\n",
              "      fill: #FFFFFF;\n",
              "    }\n",
              "  </style>\n",
              "\n",
              "      <script>\n",
              "        const buttonEl =\n",
              "          document.querySelector('#df-c64f3b3d-53b0-4d74-bf9d-83d2f31ed1cc button.colab-df-convert');\n",
              "        buttonEl.style.display =\n",
              "          google.colab.kernel.accessAllowed ? 'block' : 'none';\n",
              "\n",
              "        async function convertToInteractive(key) {\n",
              "          const element = document.querySelector('#df-c64f3b3d-53b0-4d74-bf9d-83d2f31ed1cc');\n",
              "          const dataTable =\n",
              "            await google.colab.kernel.invokeFunction('convertToInteractive',\n",
              "                                                     [key], {});\n",
              "          if (!dataTable) return;\n",
              "\n",
              "          const docLinkHtml = 'Like what you see? Visit the ' +\n",
              "            '<a target=\"_blank\" href=https://colab.research.google.com/notebooks/data_table.ipynb>data table notebook</a>'\n",
              "            + ' to learn more about interactive tables.';\n",
              "          element.innerHTML = '';\n",
              "          dataTable['output_type'] = 'display_data';\n",
              "          await google.colab.output.renderOutput(dataTable, element);\n",
              "          const docLink = document.createElement('div');\n",
              "          docLink.innerHTML = docLinkHtml;\n",
              "          element.appendChild(docLink);\n",
              "        }\n",
              "      </script>\n",
              "    </div>\n",
              "  </div>\n",
              "  "
            ]
          },
          "metadata": {}
        }
      ],
      "source": [
        "# Check eval data for errors by validating the eval data stats using the previously inferred schema.\n",
        "anomalies = tfdv.validate_statistics(statistics=eval_stats, schema=schema)\n",
        "tfdv.display_anomalies(anomalies)"
      ]
    },
    {
      "cell_type": "markdown",
      "metadata": {
        "id": "dzxx1gBpJIBa"
      },
      "source": [
        "## Fix evaluation anomalies in the schema\n",
        "\n",
        "Oops!  It looks like we have some new values for `company` in our evaluation data, that we didn't have in our training data.  We also have a new value for `payment_type`.  These should be considered anomalies, but what we decide to do about them depends on our domain knowledge of the data.  If an anomaly truly indicates a data error, then the underlying data should be fixed.  Otherwise, we can simply update the schema to include the values in the eval dataset.\n",
        "\n",
        "Key Point: How would our evaluation results be affected if we did not fix these problems?\n",
        "\n",
        "Unless we change our evaluation dataset we can't fix everything, but we can fix things in the schema that we're comfortable accepting.  That includes relaxing our view of what is and what is not an anomaly for particular features, as well as updating our schema to include missing values for categorical features.  TFDV has enabled us to discover what we need to fix.\n",
        "\n",
        "Let's make those fixes now, and then review one more time."
      ]
    },
    {
      "cell_type": "code",
      "execution_count": 76,
      "metadata": {
        "id": "legN2nXLWZAc",
        "colab": {
          "base_uri": "https://localhost:8080/",
          "height": 57
        },
        "outputId": "d92ba939-668b-4692-f790-c4381a90476d"
      },
      "outputs": [
        {
          "output_type": "display_data",
          "data": {
            "text/plain": [
              "<IPython.core.display.HTML object>"
            ],
            "text/html": [
              "<h4 style=\"color:green;\">No anomalies found.</h4>"
            ]
          },
          "metadata": {}
        }
      ],
      "source": [
        "# Relax the minimum fraction of values that must come from the domain for feature company.\n",
        "company = tfdv.get_feature(schema, 'festiva_name')\n",
        "company.distribution_constraints.min_domain_mass = 0.9\n",
        "\n",
        "# Add new value to the domain of feature payment_type.\n",
        "# payment_type_domain = tfdv.get_domain(schema, 'payment_type')\n",
        "# payment_type_domain.value.append('Prcard')\n",
        "\n",
        "# Validate eval stats after updating the schema \n",
        "updated_anomalies = tfdv.validate_statistics(eval_stats, schema)\n",
        "tfdv.display_anomalies(updated_anomalies)"
      ]
    },
    {
      "cell_type": "markdown",
      "metadata": {
        "id": "xNo72YP9LN98"
      },
      "source": [
        "Hey, look at that!  We verified that the training and evaluation data are now consistent!  Thanks TFDV ;)"
      ]
    },
    {
      "cell_type": "markdown",
      "metadata": {
        "id": "KZ1P4ucHJj5o"
      },
      "source": [
        "## Schema Environments"
      ]
    },
    {
      "cell_type": "markdown",
      "metadata": {
        "id": "qb179jczJppA"
      },
      "source": [
        "We also split off a 'serving' dataset for this example, so we should check that too.  By default all datasets in a pipeline should use the same schema, but there are often exceptions. For example, in supervised learning we need to include labels in our dataset, but when we serve the model for inference the labels will not be included. In some cases introducing slight schema variations is necessary.\n",
        "\n",
        "**Environments** can be used to express such requirements. In particular, features in schema can be associated with a set of environments using `default_environment`, `in_environment` and `not_in_environment`.\n",
        "\n",
        "For example, in this dataset the `tips` feature is included as the label for training, but it's missing in the serving data. Without environment specified, it will show up as an anomaly."
      ]
    },
    {
      "cell_type": "code",
      "execution_count": 78,
      "metadata": {
        "id": "wSZfbnifJuTA",
        "colab": {
          "base_uri": "https://localhost:8080/",
          "height": 57
        },
        "outputId": "6389f410-28bc-478d-cf79-4b3e8b63dd0e"
      },
      "outputs": [
        {
          "output_type": "display_data",
          "data": {
            "text/plain": [
              "<IPython.core.display.HTML object>"
            ],
            "text/html": [
              "<h4 style=\"color:green;\">No anomalies found.</h4>"
            ]
          },
          "metadata": {}
        }
      ],
      "source": [
        "serving_stats = tfdv.generate_statistics_from_dataframe(SERVING_DATA)\n",
        "serving_anomalies = tfdv.validate_statistics(serving_stats, schema)\n",
        "\n",
        "tfdv.display_anomalies(serving_anomalies)"
      ]
    },
    {
      "cell_type": "markdown",
      "metadata": {
        "id": "FDYHvZ09LfkT"
      },
      "source": [
        "We'll deal with the `tips` feature below.  We also have an INT value in our trip seconds, where our schema expected a FLOAT. By making us aware of that difference, TFDV helps uncover inconsistencies in the way the data is generated for training and serving. It's very easy to be unaware of problems like that until model performance suffers, sometimes catastrophically. It may or may not be a significant issue, but in any case this should be cause for further investigation.\n",
        "\n",
        "In this case, we can safely convert INT values to FLOATs, so we want to tell TFDV to use our schema to infer the type.  Let's do that now."
      ]
    },
    {
      "cell_type": "code",
      "execution_count": 80,
      "metadata": {
        "id": "OhtYF8aAczpd",
        "colab": {
          "base_uri": "https://localhost:8080/",
          "height": 57
        },
        "outputId": "3a864c6e-2cb7-4842-c9f5-563b331de02e"
      },
      "outputs": [
        {
          "output_type": "display_data",
          "data": {
            "text/plain": [
              "<IPython.core.display.HTML object>"
            ],
            "text/html": [
              "<h4 style=\"color:green;\">No anomalies found.</h4>"
            ]
          },
          "metadata": {}
        }
      ],
      "source": [
        "options = tfdv.StatsOptions(schema=schema, infer_type_from_schema=True)\n",
        "serving_stats = tfdv.generate_statistics_from_dataframe(SERVING_DATA, stats_options=options)\n",
        "serving_anomalies = tfdv.validate_statistics(serving_stats, schema)\n",
        "\n",
        "tfdv.display_anomalies(serving_anomalies)"
      ]
    },
    {
      "cell_type": "markdown",
      "metadata": {
        "id": "bJjh5rigc5xy"
      },
      "source": [
        "Now we just have the `tips` feature (which is our label) showing up as an anomaly ('Column dropped').  Of course we don't expect to have labels in our serving data, so let's tell TFDV to ignore that."
      ]
    },
    {
      "cell_type": "code",
      "execution_count": 82,
      "metadata": {
        "id": "bnbnw8H6Lp2M"
      },
      "outputs": [],
      "source": [
        "# All features are by default in both TRAINING and SERVING environments.\n",
        "schema.default_environment.append('TRAINING')\n",
        "schema.default_environment.append('SERVING')\n",
        "\n",
        "# Specify that 'tips' feature is not in SERVING environment.\n",
        "# tfdv.get_feature(schema, 'tips').not_in_environment.append('SERVING')\n",
        "\n",
        "# serving_anomalies_with_env = tfdv.validate_statistics(\n",
        "#     serving_stats, schema, environment='SERVING')\n",
        "\n",
        "# tfdv.display_anomalies(serving_anomalies_with_env)"
      ]
    },
    {
      "cell_type": "markdown",
      "metadata": {
        "id": "yteMr3AGMYEp"
      },
      "source": [
        "## Check for drift and skew"
      ]
    },
    {
      "cell_type": "markdown",
      "metadata": {
        "id": "8Ftd5k6AMkPV"
      },
      "source": [
        "In addition to checking whether a dataset conforms to the expectations set in the schema, TFDV also provides functionalities to detect drift and skew.  TFDV performs this check by comparing the statistics of the different datasets based on the drift/skew comparators specified in the schema.\n",
        "\n",
        "### Drift\n",
        "\n",
        "Drift detection is supported for categorical features and between consecutive spans of data (i.e., between span N and span N+1), such as between different days of training data.  We express drift in terms of [L-infinity distance](https://en.wikipedia.org/wiki/Chebyshev_distance), and you can set the threshold distance so that you receive warnings when the drift is higher than is acceptable.  Setting the correct distance is typically an iterative process requiring domain knowledge and experimentation."
      ]
    },
    {
      "cell_type": "markdown",
      "metadata": {
        "id": "eBFuLpXb6qSp"
      },
      "source": [
        "### Skew\n",
        "\n",
        "TFDV can detect three different kinds of skew in your data - schema skew, feature skew, and distribution skew.\n",
        "\n",
        "#### Schema Skew\n",
        "\n",
        "Schema skew occurs when the training and serving data do not conform to the same schema. Both training and serving data are expected to adhere to the same schema. Any expected deviations between the two (such as the label feature being only present in the training data but not in serving) should be specified through environments field in the schema.\n",
        "\n",
        "#### Feature Skew\n",
        "\n",
        "Feature skew occurs when the feature values that a model trains on are different from the feature values that it sees at serving time. For example, this can happen when:\n",
        "\n",
        "* A data source that provides some feature values is modified between training and serving time\n",
        "* There is different logic for generating features between training and serving. For example, if you apply some transformation only in one of the two code paths.\n",
        "\n",
        "#### Distribution Skew\n",
        "\n",
        "Distribution skew occurs when the distribution of the training dataset is significantly different from the distribution of the serving dataset. One of the key causes for distribution skew is using different code or different data sources to generate the training dataset. Another reason is a faulty sampling mechanism that chooses a non-representative subsample of the serving data to train on."
      ]
    },
    {
      "cell_type": "code",
      "execution_count": 83,
      "metadata": {
        "id": "wEUsZm_rOd1Q",
        "colab": {
          "base_uri": "https://localhost:8080/",
          "height": 173
        },
        "outputId": "15a38087-8693-40b5-e558-7d34422038c1"
      },
      "outputs": [
        {
          "output_type": "display_data",
          "data": {
            "text/plain": [
              "                                        Anomaly short description  \\\n",
              "Feature name                                                        \n",
              "'festiva_name'  High Linfty distance between current and previous   \n",
              "\n",
              "                                                                                                                                                                     Anomaly long description  \n",
              "Feature name                                                                                                                                                                                   \n",
              "'festiva_name'  The Linfty distance between current and previous is 0.00337268 (up to six significant digits), above the threshold 0.001. The feature value with maximum difference is: 農曆8/1  "
            ],
            "text/html": [
              "\n",
              "  <div id=\"df-a1dfbd5a-e5ca-47eb-bfa4-afa7bc23bbaa\">\n",
              "    <div class=\"colab-df-container\">\n",
              "      <div>\n",
              "<style scoped>\n",
              "    .dataframe tbody tr th:only-of-type {\n",
              "        vertical-align: middle;\n",
              "    }\n",
              "\n",
              "    .dataframe tbody tr th {\n",
              "        vertical-align: top;\n",
              "    }\n",
              "\n",
              "    .dataframe thead th {\n",
              "        text-align: right;\n",
              "    }\n",
              "</style>\n",
              "<table border=\"1\" class=\"dataframe\">\n",
              "  <thead>\n",
              "    <tr style=\"text-align: right;\">\n",
              "      <th></th>\n",
              "      <th>Anomaly short description</th>\n",
              "      <th>Anomaly long description</th>\n",
              "    </tr>\n",
              "    <tr>\n",
              "      <th>Feature name</th>\n",
              "      <th></th>\n",
              "      <th></th>\n",
              "    </tr>\n",
              "  </thead>\n",
              "  <tbody>\n",
              "    <tr>\n",
              "      <th>'festiva_name'</th>\n",
              "      <td>High Linfty distance between current and previous</td>\n",
              "      <td>The Linfty distance between current and previous is 0.00337268 (up to six significant digits), above the threshold 0.001. The feature value with maximum difference is: 農曆8/1</td>\n",
              "    </tr>\n",
              "  </tbody>\n",
              "</table>\n",
              "</div>\n",
              "      <button class=\"colab-df-convert\" onclick=\"convertToInteractive('df-a1dfbd5a-e5ca-47eb-bfa4-afa7bc23bbaa')\"\n",
              "              title=\"Convert this dataframe to an interactive table.\"\n",
              "              style=\"display:none;\">\n",
              "        \n",
              "  <svg xmlns=\"http://www.w3.org/2000/svg\" height=\"24px\"viewBox=\"0 0 24 24\"\n",
              "       width=\"24px\">\n",
              "    <path d=\"M0 0h24v24H0V0z\" fill=\"none\"/>\n",
              "    <path d=\"M18.56 5.44l.94 2.06.94-2.06 2.06-.94-2.06-.94-.94-2.06-.94 2.06-2.06.94zm-11 1L8.5 8.5l.94-2.06 2.06-.94-2.06-.94L8.5 2.5l-.94 2.06-2.06.94zm10 10l.94 2.06.94-2.06 2.06-.94-2.06-.94-.94-2.06-.94 2.06-2.06.94z\"/><path d=\"M17.41 7.96l-1.37-1.37c-.4-.4-.92-.59-1.43-.59-.52 0-1.04.2-1.43.59L10.3 9.45l-7.72 7.72c-.78.78-.78 2.05 0 2.83L4 21.41c.39.39.9.59 1.41.59.51 0 1.02-.2 1.41-.59l7.78-7.78 2.81-2.81c.8-.78.8-2.07 0-2.86zM5.41 20L4 18.59l7.72-7.72 1.47 1.35L5.41 20z\"/>\n",
              "  </svg>\n",
              "      </button>\n",
              "      \n",
              "  <style>\n",
              "    .colab-df-container {\n",
              "      display:flex;\n",
              "      flex-wrap:wrap;\n",
              "      gap: 12px;\n",
              "    }\n",
              "\n",
              "    .colab-df-convert {\n",
              "      background-color: #E8F0FE;\n",
              "      border: none;\n",
              "      border-radius: 50%;\n",
              "      cursor: pointer;\n",
              "      display: none;\n",
              "      fill: #1967D2;\n",
              "      height: 32px;\n",
              "      padding: 0 0 0 0;\n",
              "      width: 32px;\n",
              "    }\n",
              "\n",
              "    .colab-df-convert:hover {\n",
              "      background-color: #E2EBFA;\n",
              "      box-shadow: 0px 1px 2px rgba(60, 64, 67, 0.3), 0px 1px 3px 1px rgba(60, 64, 67, 0.15);\n",
              "      fill: #174EA6;\n",
              "    }\n",
              "\n",
              "    [theme=dark] .colab-df-convert {\n",
              "      background-color: #3B4455;\n",
              "      fill: #D2E3FC;\n",
              "    }\n",
              "\n",
              "    [theme=dark] .colab-df-convert:hover {\n",
              "      background-color: #434B5C;\n",
              "      box-shadow: 0px 1px 3px 1px rgba(0, 0, 0, 0.15);\n",
              "      filter: drop-shadow(0px 1px 2px rgba(0, 0, 0, 0.3));\n",
              "      fill: #FFFFFF;\n",
              "    }\n",
              "  </style>\n",
              "\n",
              "      <script>\n",
              "        const buttonEl =\n",
              "          document.querySelector('#df-a1dfbd5a-e5ca-47eb-bfa4-afa7bc23bbaa button.colab-df-convert');\n",
              "        buttonEl.style.display =\n",
              "          google.colab.kernel.accessAllowed ? 'block' : 'none';\n",
              "\n",
              "        async function convertToInteractive(key) {\n",
              "          const element = document.querySelector('#df-a1dfbd5a-e5ca-47eb-bfa4-afa7bc23bbaa');\n",
              "          const dataTable =\n",
              "            await google.colab.kernel.invokeFunction('convertToInteractive',\n",
              "                                                     [key], {});\n",
              "          if (!dataTable) return;\n",
              "\n",
              "          const docLinkHtml = 'Like what you see? Visit the ' +\n",
              "            '<a target=\"_blank\" href=https://colab.research.google.com/notebooks/data_table.ipynb>data table notebook</a>'\n",
              "            + ' to learn more about interactive tables.';\n",
              "          element.innerHTML = '';\n",
              "          dataTable['output_type'] = 'display_data';\n",
              "          await google.colab.output.renderOutput(dataTable, element);\n",
              "          const docLink = document.createElement('div');\n",
              "          docLink.innerHTML = docLinkHtml;\n",
              "          element.appendChild(docLink);\n",
              "        }\n",
              "      </script>\n",
              "    </div>\n",
              "  </div>\n",
              "  "
            ]
          },
          "metadata": {}
        }
      ],
      "source": [
        "# Add skew comparator for 'payment_type' feature.\n",
        "# payment_type = tfdv.get_feature(schema, 'payment_type')\n",
        "# payment_type.skew_comparator.infinity_norm.threshold = 0.01\n",
        "\n",
        "# Add drift comparator for 'company' feature.\n",
        "company=tfdv.get_feature(schema, 'festiva_name')\n",
        "company.drift_comparator.infinity_norm.threshold = 0.001\n",
        "\n",
        "skew_anomalies = tfdv.validate_statistics(train_stats, schema,\n",
        "                                          previous_statistics=eval_stats,\n",
        "                                          serving_statistics=serving_stats)\n",
        "\n",
        "tfdv.display_anomalies(skew_anomalies)"
      ]
    },
    {
      "cell_type": "markdown",
      "metadata": {
        "id": "1GzbbsPgf0Bg"
      },
      "source": [
        "In this example we do see some drift, but it is well below the threshold that we've set."
      ]
    },
    {
      "cell_type": "markdown",
      "metadata": {
        "id": "wJ5saC9eWvHx"
      },
      "source": [
        "## Freeze the schema\n",
        "\n",
        "Now that the schema has been reviewed and curated, we will store it in a file to reflect its \"frozen\" state."
      ]
    },
    {
      "cell_type": "code",
      "execution_count": 84,
      "metadata": {
        "id": "ydkL4DkIWn18",
        "colab": {
          "base_uri": "https://localhost:8080/"
        },
        "outputId": "b6cf185c-88c7-4d41-9284-7a8194ca5c85"
      },
      "outputs": [
        {
          "output_type": "stream",
          "name": "stdout",
          "text": [
            "feature {\n",
            "  name: \"qty_105\"\n",
            "  type: INT\n",
            "  presence {\n",
            "    min_fraction: 1.0\n",
            "    min_count: 1\n",
            "  }\n",
            "  shape {\n",
            "    dim {\n",
            "      size: 1\n",
            "    }\n",
            "  }\n",
            "}\n",
            "feature {\n",
            "  name: \"qty_all\"\n",
            "  type: INT\n",
            "  presence {\n",
            "    min_fraction: 1.0\n",
            "    min_count: 1\n",
            "  }\n",
            "  shape {\n",
            "    dim {\n",
            "      size: 1\n",
            "    }\n",
            "  }\n",
            "}\n",
            "feature {\n",
            "  name: \"festiva_name\"\n",
            "  type: BYTES\n",
            "  domain: \"festiva_name\"\n",
            "  presence {\n",
            "    min_fraction: 1.0\n",
            "    min_count: 1\n",
            "  }\n",
            "  distribution_constraints {\n",
            "    min_domain_mass: 0.9\n",
            "  }\n",
            "  drift_comparator {\n",
            "    infinity_norm {\n",
            "      threshold: 0.001\n",
            "    }\n",
            "  }\n",
            "  shape {\n",
            "    dim {\n",
            "      size: 1\n",
            "    }\n",
            "  }\n",
            "}\n",
            "feature {\n",
            "  name: \"sale_date\"\n",
            "  type: FLOAT\n",
            "  presence {\n",
            "    min_fraction: 1.0\n",
            "    min_count: 1\n",
            "  }\n",
            "  shape {\n",
            "    dim {\n",
            "      size: 1\n",
            "    }\n",
            "  }\n",
            "}\n",
            "feature {\n",
            "  name: \"stnpres\"\n",
            "  type: FLOAT\n",
            "  presence {\n",
            "    min_fraction: 1.0\n",
            "    min_count: 1\n",
            "  }\n",
            "  shape {\n",
            "    dim {\n",
            "      size: 1\n",
            "    }\n",
            "  }\n",
            "}\n",
            "feature {\n",
            "  name: \"seapres\"\n",
            "  type: FLOAT\n",
            "  presence {\n",
            "    min_fraction: 1.0\n",
            "    min_count: 1\n",
            "  }\n",
            "  shape {\n",
            "    dim {\n",
            "      size: 1\n",
            "    }\n",
            "  }\n",
            "}\n",
            "feature {\n",
            "  name: \"max_temperature\"\n",
            "  type: FLOAT\n",
            "  presence {\n",
            "    min_fraction: 1.0\n",
            "    min_count: 1\n",
            "  }\n",
            "  shape {\n",
            "    dim {\n",
            "      size: 1\n",
            "    }\n",
            "  }\n",
            "}\n",
            "feature {\n",
            "  name: \"min_temperature\"\n",
            "  type: FLOAT\n",
            "  presence {\n",
            "    min_fraction: 1.0\n",
            "    min_count: 1\n",
            "  }\n",
            "  shape {\n",
            "    dim {\n",
            "      size: 1\n",
            "    }\n",
            "  }\n",
            "}\n",
            "feature {\n",
            "  name: \"avg_temperature\"\n",
            "  type: FLOAT\n",
            "  presence {\n",
            "    min_fraction: 1.0\n",
            "    min_count: 1\n",
            "  }\n",
            "  shape {\n",
            "    dim {\n",
            "      size: 1\n",
            "    }\n",
            "  }\n",
            "}\n",
            "feature {\n",
            "  name: \"min_rh\"\n",
            "  type: INT\n",
            "  presence {\n",
            "    min_fraction: 1.0\n",
            "    min_count: 1\n",
            "  }\n",
            "  shape {\n",
            "    dim {\n",
            "      size: 1\n",
            "    }\n",
            "  }\n",
            "}\n",
            "feature {\n",
            "  name: \"avg_rh\"\n",
            "  type: FLOAT\n",
            "  presence {\n",
            "    min_fraction: 1.0\n",
            "    min_count: 1\n",
            "  }\n",
            "  shape {\n",
            "    dim {\n",
            "      size: 1\n",
            "    }\n",
            "  }\n",
            "}\n",
            "feature {\n",
            "  name: \"avg_wd\"\n",
            "  type: FLOAT\n",
            "  presence {\n",
            "    min_fraction: 1.0\n",
            "    min_count: 1\n",
            "  }\n",
            "  shape {\n",
            "    dim {\n",
            "      size: 1\n",
            "    }\n",
            "  }\n",
            "}\n",
            "feature {\n",
            "  name: \"avg_wdgust\"\n",
            "  type: FLOAT\n",
            "  presence {\n",
            "    min_fraction: 1.0\n",
            "    min_count: 1\n",
            "  }\n",
            "  shape {\n",
            "    dim {\n",
            "      size: 1\n",
            "    }\n",
            "  }\n",
            "}\n",
            "feature {\n",
            "  name: \"max_visb\"\n",
            "  type: FLOAT\n",
            "  presence {\n",
            "    min_fraction: 1.0\n",
            "    min_count: 1\n",
            "  }\n",
            "  shape {\n",
            "    dim {\n",
            "      size: 1\n",
            "    }\n",
            "  }\n",
            "}\n",
            "feature {\n",
            "  name: \"avg_visb\"\n",
            "  type: FLOAT\n",
            "  presence {\n",
            "    min_fraction: 1.0\n",
            "    min_count: 1\n",
            "  }\n",
            "  shape {\n",
            "    dim {\n",
            "      size: 1\n",
            "    }\n",
            "  }\n",
            "}\n",
            "feature {\n",
            "  name: \"max_uvi\"\n",
            "  type: INT\n",
            "  presence {\n",
            "    min_fraction: 1.0\n",
            "    min_count: 1\n",
            "  }\n",
            "  shape {\n",
            "    dim {\n",
            "      size: 1\n",
            "    }\n",
            "  }\n",
            "}\n",
            "feature {\n",
            "  name: \"avg_uvi\"\n",
            "  type: FLOAT\n",
            "  presence {\n",
            "    min_fraction: 1.0\n",
            "    min_count: 1\n",
            "  }\n",
            "  shape {\n",
            "    dim {\n",
            "      size: 1\n",
            "    }\n",
            "  }\n",
            "}\n",
            "feature {\n",
            "  name: \"max_cloudamount\"\n",
            "  type: INT\n",
            "  presence {\n",
            "    min_fraction: 1.0\n",
            "    min_count: 1\n",
            "  }\n",
            "  shape {\n",
            "    dim {\n",
            "      size: 1\n",
            "    }\n",
            "  }\n",
            "}\n",
            "feature {\n",
            "  name: \"stnpres-2\"\n",
            "  type: FLOAT\n",
            "  presence {\n",
            "    min_fraction: 1.0\n",
            "    min_count: 1\n",
            "  }\n",
            "  shape {\n",
            "    dim {\n",
            "      size: 1\n",
            "    }\n",
            "  }\n",
            "}\n",
            "feature {\n",
            "  name: \"seapres-2\"\n",
            "  type: FLOAT\n",
            "  presence {\n",
            "    min_fraction: 1.0\n",
            "    min_count: 1\n",
            "  }\n",
            "  shape {\n",
            "    dim {\n",
            "      size: 1\n",
            "    }\n",
            "  }\n",
            "}\n",
            "feature {\n",
            "  name: \"min_temperature-2\"\n",
            "  type: FLOAT\n",
            "  presence {\n",
            "    min_fraction: 1.0\n",
            "    min_count: 1\n",
            "  }\n",
            "  shape {\n",
            "    dim {\n",
            "      size: 1\n",
            "    }\n",
            "  }\n",
            "}\n",
            "feature {\n",
            "  name: \"avg_temperature-2\"\n",
            "  type: FLOAT\n",
            "  presence {\n",
            "    min_fraction: 1.0\n",
            "    min_count: 1\n",
            "  }\n",
            "  shape {\n",
            "    dim {\n",
            "      size: 1\n",
            "    }\n",
            "  }\n",
            "}\n",
            "feature {\n",
            "  name: \"max_tddewpoint-2\"\n",
            "  type: FLOAT\n",
            "  presence {\n",
            "    min_fraction: 1.0\n",
            "    min_count: 1\n",
            "  }\n",
            "  shape {\n",
            "    dim {\n",
            "      size: 1\n",
            "    }\n",
            "  }\n",
            "}\n",
            "feature {\n",
            "  name: \"min_tddewpoint-2\"\n",
            "  type: FLOAT\n",
            "  presence {\n",
            "    min_fraction: 1.0\n",
            "    min_count: 1\n",
            "  }\n",
            "  shape {\n",
            "    dim {\n",
            "      size: 1\n",
            "    }\n",
            "  }\n",
            "}\n",
            "feature {\n",
            "  name: \"avg_tddewpoint-2\"\n",
            "  type: FLOAT\n",
            "  presence {\n",
            "    min_fraction: 1.0\n",
            "    min_count: 1\n",
            "  }\n",
            "  shape {\n",
            "    dim {\n",
            "      size: 1\n",
            "    }\n",
            "  }\n",
            "}\n",
            "feature {\n",
            "  name: \"min_rh-2\"\n",
            "  type: INT\n",
            "  presence {\n",
            "    min_fraction: 1.0\n",
            "    min_count: 1\n",
            "  }\n",
            "  shape {\n",
            "    dim {\n",
            "      size: 1\n",
            "    }\n",
            "  }\n",
            "}\n",
            "feature {\n",
            "  name: \"avg_rh-2\"\n",
            "  type: FLOAT\n",
            "  presence {\n",
            "    min_fraction: 1.0\n",
            "    min_count: 1\n",
            "  }\n",
            "  shape {\n",
            "    dim {\n",
            "      size: 1\n",
            "    }\n",
            "  }\n",
            "}\n",
            "feature {\n",
            "  name: \"max_wd-2\"\n",
            "  type: INT\n",
            "  presence {\n",
            "    min_fraction: 1.0\n",
            "    min_count: 1\n",
            "  }\n",
            "  shape {\n",
            "    dim {\n",
            "      size: 1\n",
            "    }\n",
            "  }\n",
            "}\n",
            "feature {\n",
            "  name: \"max_wdgust-2\"\n",
            "  type: INT\n",
            "  presence {\n",
            "    min_fraction: 1.0\n",
            "    min_count: 1\n",
            "  }\n",
            "  shape {\n",
            "    dim {\n",
            "      size: 1\n",
            "    }\n",
            "  }\n",
            "}\n",
            "feature {\n",
            "  name: \"avg_wdgust-2\"\n",
            "  type: FLOAT\n",
            "  presence {\n",
            "    min_fraction: 1.0\n",
            "    min_count: 1\n",
            "  }\n",
            "  shape {\n",
            "    dim {\n",
            "      size: 1\n",
            "    }\n",
            "  }\n",
            "}\n",
            "feature {\n",
            "  name: \"max_visb-2\"\n",
            "  type: FLOAT\n",
            "  presence {\n",
            "    min_fraction: 1.0\n",
            "    min_count: 1\n",
            "  }\n",
            "  shape {\n",
            "    dim {\n",
            "      size: 1\n",
            "    }\n",
            "  }\n",
            "}\n",
            "feature {\n",
            "  name: \"min_visb-2\"\n",
            "  type: FLOAT\n",
            "  presence {\n",
            "    min_fraction: 1.0\n",
            "    min_count: 1\n",
            "  }\n",
            "  shape {\n",
            "    dim {\n",
            "      size: 1\n",
            "    }\n",
            "  }\n",
            "}\n",
            "feature {\n",
            "  name: \"avg_visb-2\"\n",
            "  type: FLOAT\n",
            "  presence {\n",
            "    min_fraction: 1.0\n",
            "    min_count: 1\n",
            "  }\n",
            "  shape {\n",
            "    dim {\n",
            "      size: 1\n",
            "    }\n",
            "  }\n",
            "}\n",
            "string_domain {\n",
            "  name: \"festiva_name\"\n",
            "  value: \"\\344\\270\\200\\350\\210\\254\"\n",
            "  value: \"\\344\\270\\203\\345\\244\\225\"\n",
            "  value: \"\\344\\270\\255\\345\\205\\203\\347\\257\\200\\350\\276\\262\\346\\233\\2067/15\"\n",
            "  value: \"\\344\\270\\255\\347\\247\\213\\347\\257\\200\\350\\276\\262\\346\\233\\2068/15\"\n",
            "  value: \"\\344\\275\\233\\351\\231\\200\\350\\252\\224\\350\\276\\260\\347\\264\\200\\345\\277\\265\\346\\227\\245\"\n",
            "  value: \"\\345\\205\\203\\345\\256\\265\\347\\257\\200\\350\\276\\262\\346\\233\\2061/15\"\n",
            "  value: \"\\345\\205\\203\\346\\227\\246\"\n",
            "  value: \"\\345\\205\\222\\347\\253\\245\\347\\257\\200\"\n",
            "  value: \"\\345\\206\\254\\350\\207\\263\"\n",
            "  value: \"\\345\\213\\236\\345\\213\\225\\347\\257\\200\"\n",
            "  value: \"\\345\\234\\213\\346\\205\\266\\346\\227\\245\"\n",
            "  value: \"\\345\\251\\246\\345\\245\\263\\347\\257\\200\"\n",
            "  value: \"\\345\\271\\263\\345\\256\\211\\345\\244\\234\"\n",
            "  value: \"\\346\\203\\205\\344\\272\\272\\347\\257\\200\"\n",
            "  value: \"\\346\\204\\232\\344\\272\\272\\347\\257\\200\"\n",
            "  value: \"\\346\\204\\237\\346\\201\\251\\347\\257\\200\"\n",
            "  value: \"\\346\\225\\231\\345\\270\\253\\347\\257\\200\"\n",
            "  value: \"\\346\\244\\215\\346\\250\\271\\347\\257\\200\"\n",
            "  value: \"\\346\\257\\215\\350\\246\\252\\347\\257\\200\"\n",
            "  value: \"\\346\\270\\205\\346\\230\\216\"\n",
            "  value: \"\\347\\253\\257\\345\\215\\210\\347\\257\\200\"\n",
            "  value: \"\\350\\200\\266\\350\\252\\225\\347\\257\\200\"\n",
            "  value: \"\\350\\207\\230\\345\\205\\253\\347\\257\\200\"\n",
            "  value: \"\\350\\276\\262\\346\\233\\20610/1\"\n",
            "  value: \"\\350\\276\\262\\346\\233\\20610/15\"\n",
            "  value: \"\\350\\276\\262\\346\\233\\20611/1\"\n",
            "  value: \"\\350\\276\\262\\346\\233\\20611/15\"\n",
            "  value: \"\\350\\276\\262\\346\\233\\20612/1\"\n",
            "  value: \"\\350\\276\\262\\346\\233\\20612/15\"\n",
            "  value: \"\\350\\276\\262\\346\\233\\2062/1\"\n",
            "  value: \"\\350\\276\\262\\346\\233\\2062/15\"\n",
            "  value: \"\\350\\276\\262\\346\\233\\2063/1\"\n",
            "  value: \"\\350\\276\\262\\346\\233\\2063/15\"\n",
            "  value: \"\\350\\276\\262\\346\\233\\2064/1\"\n",
            "  value: \"\\350\\276\\262\\346\\233\\2064/15\"\n",
            "  value: \"\\350\\276\\262\\346\\233\\2065/1\"\n",
            "  value: \"\\350\\276\\262\\346\\233\\2065/15\"\n",
            "  value: \"\\350\\276\\262\\346\\233\\2066/1\"\n",
            "  value: \"\\350\\276\\262\\346\\233\\2066/15\"\n",
            "  value: \"\\350\\276\\262\\346\\233\\2067/1\"\n",
            "  value: \"\\350\\276\\262\\346\\233\\2068/1\"\n",
            "  value: \"\\350\\276\\262\\346\\233\\2069/1\"\n",
            "  value: \"\\350\\276\\262\\346\\233\\2069/15\"\n",
            "  value: \"\\351\\207\\215\\351\\231\\275\\347\\257\\200\"\n",
            "  value: \"\\351\\231\\244\\345\\244\\225\"\n",
            "}\n",
            "default_environment: \"TRAINING\"\n",
            "default_environment: \"SERVING\"\n",
            "default_environment: \"TRAINING\"\n",
            "default_environment: \"SERVING\"\n"
          ]
        }
      ],
      "source": [
        "from tensorflow.python.lib.io import file_io\n",
        "from google.protobuf import text_format\n",
        "\n",
        "file_io.recursive_create_dir(OUTPUT_DIR)\n",
        "schema_file = os.path.join(OUTPUT_DIR, 'schema.pbtxt')\n",
        "tfdv.write_schema_text(schema, schema_file)\n",
        "\n",
        "!cat {schema_file}"
      ]
    },
    {
      "cell_type": "markdown",
      "metadata": {
        "id": "b8eC59yISdGB"
      },
      "source": [
        "## When to use TFDV\n",
        "\n",
        "It's easy to think of TFDV as only applying to the start of your training pipeline, as we did here, but in fact it has many uses.  Here's a few more:\n",
        "\n",
        "* Validating new data for inference to make sure that we haven't suddenly started receiving bad features\n",
        "* Validating new data for inference to make sure that our model has trained on that part of the decision surface\n",
        "* Validating our data after we've transformed it and done feature engineering (probably using [TensorFlow Transform](https://www.tensorflow.org/tfx/transform/get_started)) to make sure we haven't done something wrong"
      ]
    }
  ],
  "metadata": {
    "colab": {
      "collapsed_sections": [],
      "name": "「tfdv_basic.ipynb」的副本",
      "provenance": [],
      "toc_visible": true,
      "include_colab_link": true
    },
    "kernelspec": {
      "display_name": "Python 3",
      "name": "python3"
    }
  },
  "nbformat": 4,
  "nbformat_minor": 0
}