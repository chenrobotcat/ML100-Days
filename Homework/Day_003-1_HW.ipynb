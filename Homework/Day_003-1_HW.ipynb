{
 "cells": [
  {
   "cell_type": "markdown",
   "metadata": {},
   "source": [
    "## 練習時間\n",
    "在小量的資料上，我們用眼睛就可以看得出來程式碼是否有跑出我們理想中的結果\n",
    "\n",
    "請嘗試想像一個你需要的資料結構 (裡面的值可以是隨機的)，然後用上述的方法把它變成 pandas DataFrame\n",
    "\n",
    "#### Ex: 想像一個 dataframe 有兩個欄位，一個是國家，一個是人口，求人口數最多的國家\n",
    "\n",
    "### Hints: [隨機產生數值](https://blog.csdn.net/christianashannon/article/details/78867204)"
   ]
  },
  {
   "cell_type": "code",
   "execution_count": 3,
   "metadata": {},
   "outputs": [],
   "source": [
    "import pandas as pd\n",
    "import numpy as np"
   ]
  },
  {
   "cell_type": "code",
   "execution_count": 22,
   "metadata": {},
   "outputs": [
    {
     "name": "stdout",
     "output_type": "stream",
     "text": [
      "[52835788 19072832 70851342 71623228 77300388]\n",
      "          AB        CC\n",
      "0  Country_0  52835788\n",
      "1  Country_0  19072832\n",
      "2  Country_0  70851342\n",
      "3  Country_0  71623228\n",
      "4  Country_0  77300388\n"
     ]
    }
   ],
   "source": [
    "rn = np.random.randint(100000000,size=5)\n",
    "print(rn)\n",
    "\n",
    "#data = {'國家': ,\n",
    "#        '人口': }\n",
    "data = pd.DataFrame([['Country_0', rn[0]]] , columns=['AB','CC'])\n",
    "for i in range(1,5):\n",
    "    df2 = pd.DataFrame([['Country_0', rn[i]]] , columns=['AB','CC'])\n",
    "    data = data.append(df2, ignore_index=True)\n",
    "    \n",
    "print(data)\n"
   ]
  },
  {
   "cell_type": "code",
   "execution_count": null,
   "metadata": {
    "collapsed": true
   },
   "outputs": [],
   "source": []
  }
 ],
 "metadata": {
  "kernelspec": {
   "display_name": "Python 3",
   "language": "python",
   "name": "python3"
  },
  "language_info": {
   "codemirror_mode": {
    "name": "ipython",
    "version": 3
   },
   "file_extension": ".py",
   "mimetype": "text/x-python",
   "name": "python",
   "nbconvert_exporter": "python",
   "pygments_lexer": "ipython3",
   "version": "3.5.2"
  }
 },
 "nbformat": 4,
 "nbformat_minor": 2
}
